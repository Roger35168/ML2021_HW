{
  "cells": [
    {
      "cell_type": "markdown",
      "metadata": {
        "id": "U0jA6ePCr8CA"
      },
      "source": [
        "### **下載資料**"
      ]
    },
    {
      "cell_type": "code",
      "execution_count": 476,
      "metadata": {
        "colab": {
          "base_uri": "https://localhost:8080/"
        },
        "id": "AIJ9NYXJruhe",
        "outputId": "6678ddd6-e613-457f-a2c8-e4d2ce75b1f1"
      },
      "outputs": [
        {
          "output_type": "stream",
          "name": "stdout",
          "text": [
            "/usr/local/lib/python3.10/dist-packages/gdown/cli.py:121: FutureWarning: Option `--id` was deprecated in version 4.3.1 and will be removed in 5.0. You don't need to pass it anymore to use a file ID.\n",
            "  warnings.warn(\n",
            "Downloading...\n",
            "From: https://drive.google.com/uc?id=19CCyCgJrUxtvgZF53vnctJiOJ23T5mqF\n",
            "To: /content/covid.train.csv\n",
            "100% 2.00M/2.00M [00:00<00:00, 117MB/s]\n",
            "/usr/local/lib/python3.10/dist-packages/gdown/cli.py:121: FutureWarning: Option `--id` was deprecated in version 4.3.1 and will be removed in 5.0. You don't need to pass it anymore to use a file ID.\n",
            "  warnings.warn(\n",
            "Downloading...\n",
            "From: https://drive.google.com/uc?id=1CE240jLm2npU-tdz81-oVKEF3T2yfT1O\n",
            "To: /content/covid.test.csv\n",
            "100% 651k/651k [00:00<00:00, 96.6MB/s]\n"
          ]
        }
      ],
      "source": [
        "tr_path = 'covid.train.csv'  # 訓練資料的路徑\n",
        "tt_path = 'covid.test.csv'  # 測試資料的路徑\n",
        "# google drive的連結\n",
        "!gdown --id '19CCyCgJrUxtvgZF53vnctJiOJ23T5mqF' --output covid.train.csv\n",
        "!gdown --id '1CE240jLm2npU-tdz81-oVKEF3T2yfT1O' --output covid.test.csv"
      ]
    },
    {
      "cell_type": "markdown",
      "metadata": {
        "id": "uDTo-guNxn5C"
      },
      "source": [
        "### **安裝相關套件**"
      ]
    },
    {
      "cell_type": "code",
      "execution_count": 477,
      "metadata": {
        "id": "hGIHm0t7x0Z6"
      },
      "outputs": [],
      "source": [
        "# Pytorch\n",
        "import torch\n",
        "import torch.nn as nn\n",
        "from torch.utils.data import Dataset, DataLoader\n",
        "\n",
        "# Sklearn\n",
        "import sklearn\n",
        "from sklearn.feature_selection import SelectKBest\n",
        "from sklearn.feature_selection import f_regression\n",
        "from sklearn import preprocessing\n",
        "\n",
        "# 資料預處理\n",
        "import numpy as np\n",
        "import pandas as pd\n",
        "import csv\n",
        "import os\n",
        "\n",
        "# 畫圖\n",
        "import matplotlib.pyplot as plt\n",
        "from matplotlib.pyplot import figure\n",
        "\n",
        "# 設定隨機種子(確保輸出模型一致)\n",
        "myseed = 42069\n",
        "# 參考資料:https://zhuanlan.zhihu.com/p/583387718\n",
        "# CPU版本的PyTorch只要所有參數初始化一樣,超參數也一樣則輸出的model會一樣\n",
        "# GPU版本的PyTorch在訓練時可能會引入額外的隨機源,導致輸出的模型不一致\n",
        "# torch.backends.cudnn.deterministic = True可以讓輸出結果一致\n",
        "torch.backends.cudnn.deterministic = True\n",
        "# torch.backends.cudnn.benchmark決定是否要在開始執行程式時先尋找整個網路最適合每個卷積層的卷積方法\n",
        "# 固定的網路結構與輸入形狀(batch size、圖片大小、輸入通道等)，可以透過開啟這個功能實現網路加速(True)\n",
        "# 反之，不斷變動的卷積層會不斷花費時間在最佳化上，因此會花費更多時間\n",
        "torch.backends.cudnn.benchmark = False\n",
        "np.random.seed(myseed)\n",
        "torch.manual_seed(myseed)\n",
        "if torch.cuda.is_available():\n",
        "    torch.cuda.manual_seed_all(myseed)\n"
      ]
    },
    {
      "cell_type": "markdown",
      "metadata": {
        "id": "QXpj-jdNkZlY"
      },
      "source": [
        "### **設定會用到的功能函式**"
      ]
    },
    {
      "cell_type": "code",
      "execution_count": 478,
      "metadata": {
        "id": "S6tkjsYgkasJ"
      },
      "outputs": [],
      "source": [
        "# 判斷是GPU還是CPU\n",
        "def get_device():\n",
        "    return 'cuda' if torch.cuda.is_available() else 'cpu'\n",
        "\n",
        "def plot_learning_curve(loss_record, title=''):\n",
        "    ''' Plot learning curve of your DNN (train & dev loss) '''\n",
        "    total_steps = len(loss_record['train'])\n",
        "    x_1 = range(total_steps)\n",
        "    x_2 = x_1[::len(loss_record['train']) // len(loss_record['dev'])]\n",
        "    figure(figsize=(6, 4))\n",
        "    plt.plot(x_1, loss_record['train'], c='tab:red', label='train')\n",
        "    plt.plot(x_2, loss_record['dev'], c='tab:cyan', label='dev')\n",
        "    plt.ylim(0.0, 5.)\n",
        "    plt.xlabel('Training steps')\n",
        "    plt.ylabel('MSE loss')\n",
        "    plt.title('Learning curve of {}'.format(title))\n",
        "    plt.legend()\n",
        "    plt.show()\n",
        "\n",
        "def plot_pred(dv_set, model, device, lim=35., preds=None, targets=None):\n",
        "    ''' Plot prediction of your DNN '''\n",
        "    if preds is None or targets is None:\n",
        "        model.eval()\n",
        "        preds, targets = [], []\n",
        "        for x, y in dv_set:\n",
        "            x, y = x.to(device), y.to(device)\n",
        "            with torch.no_grad():\n",
        "                pred = model(x)\n",
        "                preds.append(pred.detach().cpu())\n",
        "                targets.append(y.detach().cpu())\n",
        "        preds = torch.cat(preds, dim=0).numpy()\n",
        "        targets = torch.cat(targets, dim=0).numpy()\n",
        "\n",
        "    figure(figsize=(5, 5))\n",
        "    plt.scatter(targets, preds, c='r', alpha=0.5)\n",
        "    plt.plot([-0.2, lim], [-0.2, lim], c='b')\n",
        "    plt.xlim(-0.2, lim)\n",
        "    plt.ylim(-0.2, lim)\n",
        "    plt.xlabel('ground truth value')\n",
        "    plt.ylabel('predicted value')\n",
        "    plt.title('Ground Truth v.s. Prediction')\n",
        "    plt.show()"
      ]
    },
    {
      "cell_type": "markdown",
      "metadata": {
        "id": "3DobZT7vnOAq"
      },
      "source": [
        "### **選擇特徵**"
      ]
    },
    {
      "cell_type": "code",
      "execution_count": 479,
      "metadata": {
        "colab": {
          "base_uri": "https://localhost:8080/"
        },
        "id": "g_DonmBtnNjS",
        "outputId": "608170c5-54b1-4df9-f2df-916fb2a9779b"
      },
      "outputs": [
        {
          "output_type": "stream",
          "name": "stdout",
          "text": [
            "                 Feats          Score\n",
            "75   tested_positive.1  148069.658278\n",
            "57     tested_positive   69603.872591\n",
            "42        hh_cmnty_cli    9235.492094\n",
            "60      hh_cmnty_cli.1    9209.019558\n",
            "78      hh_cmnty_cli.2    9097.375172\n",
            "43      nohh_cmnty_cli    8395.421300\n",
            "61    nohh_cmnty_cli.1    8343.255927\n",
            "79    nohh_cmnty_cli.2    8208.176435\n",
            "40                 cli    6388.906849\n",
            "58               cli.1    6374.548000\n",
            "76               cli.2    6250.008702\n",
            "41                 ili    5998.922880\n",
            "59               ili.1    5937.588576\n",
            "77               ili.2    5796.947672\n",
            "92  worried_finances.2     833.613191\n",
            "74  worried_finances.1     811.916460\n",
            "56    worried_finances     788.076931\n",
            "87    public_transit.2     686.736539\n",
            "69    public_transit.1     681.562902\n",
            "51      public_transit     678.834789\n",
            "[75, 57, 42, 60, 78, 43, 61, 79, 40, 58, 76, 41, 59, 77]\n"
          ]
        }
      ],
      "source": [
        "# 讀取訓練資料\n",
        "data = pd.read_csv(r'covid.train.csv')\n",
        "# 設定特徵\n",
        "x = data[data.columns[1:94]]\n",
        "# 設定目標\n",
        "y = data[data.columns[94]]\n",
        "\n",
        "# 特徵標準化\n",
        "x = (x - x.min()) / (x.max() - x.min())\n",
        "\n",
        "# 用f_regression方法計算特徵的分數(與目標的關聯性)\n",
        "bestfeatures = SelectKBest(score_func=f_regression)\n",
        "\n",
        "# 計算所有特徵的分數\n",
        "fit = bestfeatures.fit(x,y)\n",
        "\n",
        "# 將分數轉換成DataFrame形式\n",
        "dfscores = pd.DataFrame(fit.scores_)\n",
        "\n",
        "# 將訓練資料的欄位名字做成DataFrame形式\n",
        "dfcolumns = pd.DataFrame(x.columns)\n",
        "\n",
        "# 將兩個DataFrame連結在一起\n",
        "featurescores = pd.concat([dfcolumns,dfscores],axis=1)\n",
        "\n",
        "# 替featurescores的欄位命名\n",
        "featurescores.columns = ['Feats','Score']\n",
        "\n",
        "# 印出分數前20高的特徵\n",
        "print(featurescores.nlargest(20,'Score'))\n",
        "\n",
        "# 將分數前14高的index存起來(之後要用到的特徵index)\n",
        "top_rows = featurescores.nlargest(20, 'Score').index.tolist()[:14]\n",
        "print(top_rows)"
      ]
    },
    {
      "cell_type": "markdown",
      "metadata": {
        "id": "cqUQzsogy5IM"
      },
      "source": [
        "### **資料前處理**\n",
        "\n",
        "*   讀取`.csv`檔\n",
        "*   提取特徵與目標\n",
        "*   將`train.csv`的資料分成train與dev資料\n",
        "*   將資料標準化\n",
        "\n",
        "  \n",
        "  "
      ]
    },
    {
      "cell_type": "code",
      "execution_count": 480,
      "metadata": {
        "id": "6pOnoeuvy42W"
      },
      "outputs": [],
      "source": [
        "class COVID19Dataset(Dataset):\n",
        "    ''' Dataset for loading and preprocessing the COVID19 dataset '''\n",
        "    def __init__(self,\n",
        "                 path,\n",
        "                 mode='train',\n",
        "                 target_only=False):\n",
        "        self.mode = mode\n",
        "\n",
        "        # Read data into numpy arrays\n",
        "        with open(path, 'r') as fp:\n",
        "            data = list(csv.reader(fp))\n",
        "            # data[1:]將第2行列以後的數據取出來\n",
        "            # [:, 1:]將前面取出的數據，其第2行以後的數據取出來\n",
        "            data = np.array(data[1:])[:, 1:].astype(float)\n",
        "\n",
        "        if not target_only:\n",
        "            feats = list(range(93))\n",
        "        else:\n",
        "            # TODO: Using 40 states & 2 tested_positive features (indices = 57 & 75)\n",
        "            # 選擇關聯性較高的資料加進特徵裡面\n",
        "            # 參考網址:https://blog.csdn.net/haerxiluo/article/details/126280677\n",
        "            feats = [75, 57, 42, 60, 78, 43, 61, 79, 40, 58, 76, 41, 59, 77]\n",
        "\n",
        "        if mode == 'test':\n",
        "            # Testing data\n",
        "            # data: 893 x 93 (40 states + day 1 (18) + day 2 (18) + day 3 (17))\n",
        "            data = data[:, feats]\n",
        "            # 將資料從numpy轉成tensor\n",
        "            self.data = torch.FloatTensor(data)\n",
        "        else:\n",
        "            # Training data (train/dev sets)\n",
        "            # data: 2700 x 94 (40 states + day 1 (18) + day 2 (18) + day 3 (18))\n",
        "            # data[:, -1] 讀取所有列的最後一行數據\n",
        "            target = data[:, -1]\n",
        "            data = data[:, feats]\n",
        "\n",
        "            # Splitting training data into train & dev sets\n",
        "            if mode == 'train':\n",
        "                indices = [i for i in range(len(data)) if i % 10 != 0]\n",
        "            elif mode == 'dev':\n",
        "                indices = [i for i in range(len(data)) if i % 10 == 0]\n",
        "\n",
        "            # Convert data into PyTorch tensors\n",
        "            self.data = torch.FloatTensor(data[indices])\n",
        "            self.target = torch.FloatTensor(target[indices])\n",
        "\n",
        "        # Normalize features (you may remove this part to see what will happen)\n",
        "        # mean(dim=0, keepdim=True)) 是針對第0維取平均，keepdim=True 代表取完平均後自動下降1個維度\n",
        "        # std(dim=0, keepdim=True) 是針對第0維取標準差，keepdim=True 代表取完平均後自動下降1個維度\n",
        "        # 做完資料標準化後，所有資料的均值為0，標準差為1\n",
        "        self.data[:, 40:] = \\\n",
        "            (self.data[:, 40:] - self.data[:, 40:].mean(dim=0, keepdim=True)) \\\n",
        "            / self.data[:, 40:].std(dim=0, keepdim=True)\n",
        "\n",
        "        self.dim = self.data.shape[1]\n",
        "\n",
        "        print('Finished reading the {} set of COVID19 Dataset ({} samples found, each dim = {})'\n",
        "              .format(mode, len(self.data), self.dim))\n",
        "\n",
        "    def __getitem__(self, index):\n",
        "        # Returns one sample at a time\n",
        "        if self.mode in ['train', 'dev']:\n",
        "            # For training\n",
        "            return self.data[index], self.target[index]\n",
        "        else:\n",
        "            # For testing (no target)\n",
        "            return self.data[index]\n",
        "\n",
        "    def __len__(self):\n",
        "        # Returns the size of the dataset\n",
        "        return len(self.data)"
      ]
    },
    {
      "cell_type": "markdown",
      "metadata": {
        "id": "XnQUf1SXPvRf"
      },
      "source": [
        "### **DataLoader**\n",
        "透過DataLoader從Dataset載入資料"
      ]
    },
    {
      "cell_type": "code",
      "execution_count": 481,
      "metadata": {
        "id": "g-pnB1aYPvEQ"
      },
      "outputs": [],
      "source": [
        "def prep_dataloader(path, mode, batch_size, n_jobs=0, target_only=False):\n",
        "    ''' Generates a dataset, then is put into a dataloader. '''\n",
        "    dataset = COVID19Dataset(path, mode=mode, target_only=target_only)  # Construct dataset\n",
        "    # drop_last:當資料數不能被batch_size整除時，是否丟掉不能整除的資料\n",
        "    # pin_memory:是否將資料放到GPU上\n",
        "    dataloader = DataLoader(\n",
        "        dataset, batch_size,\n",
        "        shuffle=(mode == 'train'), drop_last=False,\n",
        "        num_workers=n_jobs, pin_memory=True)                            # Construct dataloader\n",
        "    return dataloader"
      ]
    },
    {
      "cell_type": "markdown",
      "metadata": {
        "id": "qecKSxS4Q3W3"
      },
      "source": [
        "### **Deep Neural Network**\n"
      ]
    },
    {
      "cell_type": "code",
      "execution_count": 482,
      "metadata": {
        "id": "iXF2k3btQ3O5"
      },
      "outputs": [],
      "source": [
        "class NeuralNet(nn.Module):\n",
        "  def __init__(self, input_dim):\n",
        "    # super(NeuralNet, self).__init__()是指調用父類別的初始化，這邊的父類別為nn.Module\n",
        "    super(NeuralNet, self).__init__()\n",
        "\n",
        "    # 定義自己的網路\n",
        "    self.net = nn.Sequential(\n",
        "        nn.Linear(input_dim, 16),\n",
        "        nn.ReLU(),\n",
        "        nn.BatchNorm1d(16),\n",
        "        nn.Dropout(p=0.2),\n",
        "        nn.Linear(16, 1),\n",
        "    )\n",
        "\n",
        "    # 定義損失函數(Mean Squared Error)\n",
        "    self.criterion = nn.MSELoss(reduction='mean')\n",
        "\n",
        "  # 計算預測結果並去掉維度數維1的維度\n",
        "  def forward(self, x):\n",
        "    return self.net(x).squeeze(1)\n",
        "\n",
        "  # 計算loss\n",
        "  # 用 L2 regularization 替模型增加限制，避免模型 over-fitting(降低模型準確度但增加泛用姓)\n",
        "  # 參考資料:https://allen108108.github.io/blog/2019/10/22/L1%20,%20L2%20Regularization%20%E5%88%B0%E5%BA%95%E6%AD%A3%E5%89%87%E5%8C%96%E4%BA%86%E4%BB%80%E9%BA%BC%20_/\n",
        "  def cal_loss(self, pred, target):\n",
        "        ''' Calculate loss '''\n",
        "        # TODO: you may implement L1/L2 regularization here\n",
        "        loss_sum = 0\n",
        "        for p in model.parameters():\n",
        "            loss_sum += torch.sum(p ** 2)\n",
        "        # loss_sum 的係數可以自行調整\n",
        "        return torch.sqrt(self.criterion(pred, target)) + 0.00075 * loss_sum"
      ]
    },
    {
      "cell_type": "markdown",
      "metadata": {
        "id": "5k4Jl4fAFw0c"
      },
      "source": [
        "### **Training**"
      ]
    },
    {
      "cell_type": "code",
      "execution_count": 483,
      "metadata": {
        "id": "p8J0Rv3WFwrs"
      },
      "outputs": [],
      "source": [
        "def train(tr_set, dv_set, model, config, device):\n",
        "    ''' DNN training '''\n",
        "\n",
        "    n_epochs = config['n_epochs']  # Maximum number of epochs\n",
        "\n",
        "    # Setup optimizer\n",
        "    # getattr(object, name[, default]) 是返回object的屬性(name)的值，等於object.name\n",
        "    # 這裡是用於設定最佳化方法(config['optimizer'])，並將超參數(**config['optim_hparas'])代入最佳化方法裡\n",
        "    optimizer = getattr(torch.optim, config['optimizer'])(\n",
        "        model.parameters(), **config['optim_hparas'])\n",
        "\n",
        "    min_mse = 1000.\n",
        "    loss_record = {'train': [], 'dev': []}      # for recording training loss\n",
        "    early_stop_cnt = 0\n",
        "    epoch = 0\n",
        "    while epoch < n_epochs:                       # 參考資料:https://zhuanlan.zhihu.com/p/357075502\n",
        "        model.train()                          # 設定成訓練模式(啟用batch normalization跟dropout)\n",
        "        for x, y in tr_set:                     # 透過dataloader進行迭代\n",
        "            optimizer.zero_grad()                  # 將gradient設為0(避免梯度累積)\n",
        "            x, y = x.to(device), y.to(device)          # 將資料移到設備裡(cpu/cuda)\n",
        "            pred = model(x)                    # 計算輸出(forward pass)\n",
        "            mse_loss = model.cal_loss(pred, y)          # 計算loss\n",
        "            mse_loss.backward()                   # 計算gradient(backpropagation)\n",
        "            optimizer.step()                    # 更新參數\n",
        "            loss_record['train'].append(mse_loss.detach().cpu().item()) # 紀錄training loss\n",
        "\n",
        "        # 在每次epoch後用驗證資料集測試訓練後的模型\n",
        "        dev_mse = dev(dv_set, model, device)\n",
        "        if dev_mse < min_mse:\n",
        "            # 如果loss變小，將現在的loss存成最小loss並儲存模型\n",
        "            min_mse = dev_mse\n",
        "            print('Saving model (epoch = {:4d}, loss = {:.4f})'\n",
        "                .format(epoch + 1, min_mse))\n",
        "            torch.save(model.state_dict(), config['save_path'])  # Save model to specified path\n",
        "            early_stop_cnt = 0\n",
        "        else:\n",
        "            early_stop_cnt += 1                  # 如果loss變大則把early_stop_cnt+1\n",
        "\n",
        "        epoch += 1\n",
        "        loss_record['dev'].append(dev_mse)\n",
        "        # 當early_stop_cnt大於設定的值則停止訓練模型\n",
        "        if early_stop_cnt > config['early_stop']:\n",
        "            # Stop training if your model stops improving for \"config['early_stop']\" epochs.\n",
        "            break\n",
        "\n",
        "    print('Finished training after {} epochs'.format(epoch))\n",
        "    return min_mse, loss_record"
      ]
    },
    {
      "cell_type": "markdown",
      "metadata": {
        "id": "rnlhBe-wGAi5"
      },
      "source": [
        "### **Validation**"
      ]
    },
    {
      "cell_type": "code",
      "execution_count": 484,
      "metadata": {
        "id": "ahL1xbjIGAYJ"
      },
      "outputs": [],
      "source": [
        "def dev(dv_set, model, device):\n",
        "    model.eval()                              # 將模型設成evalutation模式\n",
        "    total_loss = 0\n",
        "    for x, y in dv_set:                         # 透過dataloader進行迭代\n",
        "        x, y = x.to(device), y.to(device)              # 將資料移到設備裡(cpu/cuda)\n",
        "        with torch.no_grad():                     # 關掉梯度計算\n",
        "            pred = model(x)                    # 計算輸出(forward pass)\n",
        "            mse_loss = model.cal_loss(pred, y)          # 計算loss\n",
        "        total_loss += mse_loss.detach().cpu().item() * len(x)    # 累加loss(mse_loss.detach().cpu().item()是只讀取loss信息)\n",
        "    total_loss = total_loss / len(dv_set.dataset)            # 計算平均loss\n",
        "\n",
        "    return total_loss"
      ]
    },
    {
      "cell_type": "markdown",
      "metadata": {
        "id": "PLaVEuRtGFTZ"
      },
      "source": [
        "### **Testing**"
      ]
    },
    {
      "cell_type": "code",
      "execution_count": 485,
      "metadata": {
        "id": "p_R_d8MNGFJp"
      },
      "outputs": [],
      "source": [
        "def test(tt_set, model, device):\n",
        "    model.eval()                              # 將模型設成evalutation模式\n",
        "    preds = []\n",
        "    for x in tt_set:                           # 透過dataloader進行迭代\n",
        "        x = x.to(device)                       # 將資料移到設備裡(cpu/cuda)\n",
        "        with torch.no_grad():                     # 關掉梯度計算\n",
        "            pred = model(x)                    # 計算輸出(forward pass)\n",
        "            preds.append(pred.detach().cpu())            # 儲存預測結果\n",
        "    preds = torch.cat(preds, dim=0).numpy()               # 將預測結果整合成一個numpy array\n",
        "    return preds"
      ]
    },
    {
      "cell_type": "markdown",
      "metadata": {
        "id": "-DKVhNN_GWGg"
      },
      "source": [
        "### Hyper-**parameters**\n",
        "設置訓練時的超參數"
      ]
    },
    {
      "cell_type": "code",
      "execution_count": 486,
      "metadata": {
        "id": "q3kkOu9fGV-y"
      },
      "outputs": [],
      "source": [
        "device = get_device()                  # 取得現在使用的設備(CPU/Cuda)\n",
        "os.makedirs('models', exist_ok=True)           # 創造'models'目錄(exist_ok=True代表已存在目錄的情況下不會觸發FileExistsError)\n",
        "target_only = True                   # TODO: Using 40 states & 2 tested_positive features\n",
        "\n",
        "# TODO: How to tune these hyper-parameters to improve your model's performance?\n",
        "config = {\n",
        "    'n_epochs': 10000,                # maximum number of epochs\n",
        "    'batch_size': 200,                # mini-batch size for dataloader\n",
        "    'optimizer': 'Adam',               # optimization algorithm (optimizer in torch.optim)\n",
        "    'optim_hparas': {                # hyper-parameters for the optimizer (depends on which optimizer you are using)\n",
        "        'lr': 0.0005,              # learning rate of SGD\n",
        "        # 'momentum': 0.9             # momentum for SGD\n",
        "    },\n",
        "    'early_stop': 500,               # early stopping epochs (the number epochs since your model's last improvement)\n",
        "    'save_path': 'models/model.pth'         # your model will be saved here\n",
        "}"
      ]
    },
    {
      "cell_type": "markdown",
      "metadata": {
        "id": "8G-98OUzGpko"
      },
      "source": [
        "### **載入資料與模型**"
      ]
    },
    {
      "cell_type": "code",
      "execution_count": 487,
      "metadata": {
        "colab": {
          "base_uri": "https://localhost:8080/"
        },
        "id": "mpjwZeikGpch",
        "outputId": "5681dd4e-5c68-4930-80c0-3f8920e064bb"
      },
      "outputs": [
        {
          "output_type": "stream",
          "name": "stdout",
          "text": [
            "Finished reading the train set of COVID19 Dataset (2430 samples found, each dim = 14)\n",
            "Finished reading the dev set of COVID19 Dataset (270 samples found, each dim = 14)\n",
            "Finished reading the test set of COVID19 Dataset (893 samples found, each dim = 14)\n"
          ]
        }
      ],
      "source": [
        "tr_set = prep_dataloader(tr_path, 'train', config['batch_size'], target_only=target_only)\n",
        "dv_set = prep_dataloader(tr_path, 'dev', config['batch_size'], target_only=target_only)\n",
        "tt_set = prep_dataloader(tt_path, 'test', config['batch_size'], target_only=target_only)\n",
        "\n",
        "model = NeuralNet(tr_set.dataset.dim).to(device)  # Construct model and move to device"
      ]
    },
    {
      "cell_type": "markdown",
      "metadata": {
        "id": "IEPhQ_cLG5JY"
      },
      "source": [
        "### **開始訓練**"
      ]
    },
    {
      "cell_type": "code",
      "execution_count": 488,
      "metadata": {
        "colab": {
          "base_uri": "https://localhost:8080/"
        },
        "id": "Hc1_LksqG5Bx",
        "outputId": "1582fd0d-51cd-446a-d950-ad76061bd96b"
      },
      "outputs": [
        {
          "output_type": "stream",
          "name": "stdout",
          "text": [
            "Saving model (epoch =    1, loss = 18.0086)\n",
            "Saving model (epoch =    2, loss = 17.9285)\n",
            "Saving model (epoch =    3, loss = 17.8998)\n",
            "Saving model (epoch =    4, loss = 17.8412)\n",
            "Saving model (epoch =    5, loss = 17.7756)\n",
            "Saving model (epoch =    6, loss = 17.7083)\n",
            "Saving model (epoch =    7, loss = 17.5791)\n",
            "Saving model (epoch =    8, loss = 17.5605)\n",
            "Saving model (epoch =    9, loss = 17.5498)\n",
            "Saving model (epoch =   10, loss = 17.4902)\n",
            "Saving model (epoch =   11, loss = 17.3606)\n",
            "Saving model (epoch =   12, loss = 17.1447)\n",
            "Saving model (epoch =   17, loss = 17.1025)\n",
            "Saving model (epoch =   18, loss = 16.9011)\n",
            "Saving model (epoch =   19, loss = 16.8719)\n",
            "Saving model (epoch =   20, loss = 16.6548)\n",
            "Saving model (epoch =   21, loss = 16.6350)\n",
            "Saving model (epoch =   22, loss = 16.5548)\n",
            "Saving model (epoch =   23, loss = 16.4776)\n",
            "Saving model (epoch =   24, loss = 16.4750)\n",
            "Saving model (epoch =   25, loss = 16.3767)\n",
            "Saving model (epoch =   26, loss = 16.2615)\n",
            "Saving model (epoch =   27, loss = 16.1518)\n",
            "Saving model (epoch =   28, loss = 16.0190)\n",
            "Saving model (epoch =   29, loss = 15.9301)\n",
            "Saving model (epoch =   30, loss = 15.8588)\n",
            "Saving model (epoch =   31, loss = 15.8186)\n",
            "Saving model (epoch =   32, loss = 15.6123)\n",
            "Saving model (epoch =   33, loss = 15.4746)\n",
            "Saving model (epoch =   34, loss = 15.2755)\n",
            "Saving model (epoch =   35, loss = 15.1890)\n",
            "Saving model (epoch =   36, loss = 15.1552)\n",
            "Saving model (epoch =   37, loss = 14.9020)\n",
            "Saving model (epoch =   38, loss = 14.6671)\n",
            "Saving model (epoch =   39, loss = 14.5269)\n",
            "Saving model (epoch =   40, loss = 14.5204)\n",
            "Saving model (epoch =   41, loss = 14.2988)\n",
            "Saving model (epoch =   42, loss = 14.1536)\n",
            "Saving model (epoch =   43, loss = 14.0269)\n",
            "Saving model (epoch =   44, loss = 13.8709)\n",
            "Saving model (epoch =   45, loss = 13.8260)\n",
            "Saving model (epoch =   46, loss = 13.7421)\n",
            "Saving model (epoch =   47, loss = 13.2995)\n",
            "Saving model (epoch =   49, loss = 13.1031)\n",
            "Saving model (epoch =   50, loss = 12.8353)\n",
            "Saving model (epoch =   51, loss = 12.8199)\n",
            "Saving model (epoch =   52, loss = 12.2322)\n",
            "Saving model (epoch =   54, loss = 12.0634)\n",
            "Saving model (epoch =   55, loss = 12.0326)\n",
            "Saving model (epoch =   56, loss = 11.8308)\n",
            "Saving model (epoch =   57, loss = 11.6532)\n",
            "Saving model (epoch =   58, loss = 11.0506)\n",
            "Saving model (epoch =   60, loss = 10.8111)\n",
            "Saving model (epoch =   61, loss = 10.3910)\n",
            "Saving model (epoch =   63, loss = 9.8169)\n",
            "Saving model (epoch =   65, loss = 9.7239)\n",
            "Saving model (epoch =   67, loss = 9.1501)\n",
            "Saving model (epoch =   68, loss = 8.8865)\n",
            "Saving model (epoch =   70, loss = 8.8422)\n",
            "Saving model (epoch =   71, loss = 8.4896)\n",
            "Saving model (epoch =   72, loss = 8.1979)\n",
            "Saving model (epoch =   73, loss = 7.9381)\n",
            "Saving model (epoch =   75, loss = 7.2848)\n",
            "Saving model (epoch =   77, loss = 6.5968)\n",
            "Saving model (epoch =   79, loss = 4.7855)\n",
            "Saving model (epoch =   83, loss = 4.1730)\n",
            "Saving model (epoch =   91, loss = 3.9736)\n",
            "Saving model (epoch =   92, loss = 2.4843)\n",
            "Saving model (epoch =   97, loss = 1.2174)\n",
            "Saving model (epoch =  104, loss = 1.0854)\n",
            "Saving model (epoch =  107, loss = 0.9969)\n",
            "Saving model (epoch =  133, loss = 0.9787)\n",
            "Saving model (epoch =  136, loss = 0.9718)\n",
            "Saving model (epoch =  192, loss = 0.9496)\n",
            "Saving model (epoch =  214, loss = 0.9481)\n",
            "Saving model (epoch =  341, loss = 0.9348)\n",
            "Saving model (epoch =  348, loss = 0.9287)\n",
            "Saving model (epoch =  564, loss = 0.9235)\n",
            "Saving model (epoch =  787, loss = 0.9199)\n",
            "Finished training after 1288 epochs\n"
          ]
        }
      ],
      "source": [
        "model_loss, model_loss_record = train(tr_set, dv_set, model, config, device)"
      ]
    },
    {
      "cell_type": "markdown",
      "metadata": {
        "id": "iT_BxX8WHGRo"
      },
      "source": [
        "### **畫出結果**"
      ]
    },
    {
      "cell_type": "code",
      "execution_count": 489,
      "metadata": {
        "id": "jHbQV8UFHG5h",
        "colab": {
          "base_uri": "https://localhost:8080/",
          "height": 410
        },
        "outputId": "7480c1b9-6b2f-42d7-f068-3fd3d95c549b"
      },
      "outputs": [
        {
          "output_type": "display_data",
          "data": {
            "text/plain": [
              "<Figure size 600x400 with 1 Axes>"
            ],
            "image/png": "[encoded data removed]"
          },
          "metadata": {}
        }
      ],
      "source": [
        "plot_learning_curve(model_loss_record, title='deep model')"
      ]
    },
    {
      "cell_type": "code",
      "execution_count": 490,
      "metadata": {
        "id": "rZskpYfhHOYg",
        "colab": {
          "base_uri": "https://localhost:8080/",
          "height": 487
        },
        "outputId": "b2c1a44e-902b-406a-e80d-f3b5847d6935"
      },
      "outputs": [
        {
          "output_type": "display_data",
          "data": {
            "text/plain": [
              "<Figure size 500x500 with 1 Axes>"
            ],
            "image/png": "[encoded data removed]"
          },
          "metadata": {}
        }
      ],
      "source": [
        "del model\n",
        "model = NeuralNet(tr_set.dataset.dim).to(device)\n",
        "ckpt = torch.load(config['save_path'], map_location='cpu')  # Load your best model\n",
        "model.load_state_dict(ckpt)\n",
        "plot_pred(dv_set, model, device)  # Show prediction on the validation set"
      ]
    },
    {
      "cell_type": "markdown",
      "metadata": {
        "id": "k6DBRrx8HrfO"
      },
      "source": [
        "### **測試**\n",
        "模型在測試資料集的預測結果會存成`.csv`檔"
      ]
    },
    {
      "cell_type": "code",
      "execution_count": 491,
      "metadata": {
        "id": "VDe0dzzlHrXA",
        "colab": {
          "base_uri": "https://localhost:8080/"
        },
        "outputId": "97150079-0c78-4bad-fcea-53d0dbf10e69"
      },
      "outputs": [
        {
          "output_type": "stream",
          "name": "stdout",
          "text": [
            "Saving results to pred.csv\n"
          ]
        }
      ],
      "source": [
        "def save_pred(preds, file):\n",
        "    ''' Save predictions to specified file '''\n",
        "    print('Saving results to {}'.format(file))\n",
        "    with open(file, 'w') as fp:\n",
        "        writer = csv.writer(fp)\n",
        "        writer.writerow(['id', 'tested_positive'])\n",
        "        for i, p in enumerate(preds):\n",
        "            writer.writerow([i, p])\n",
        "\n",
        "preds = test(tt_set, model, device)  # predict COVID-19 cases with your model\n",
        "save_pred(preds, 'pred.csv')         # save prediction file to pred.csv"
      ]
    }
  ],
  "metadata": {
    "colab": {
      "provenance": []
    },
    "kernelspec": {
      "display_name": "Python 3",
      "name": "python3"
    },
    "language_info": {
      "name": "python"
    }
  },
  "nbformat": 4,
  "nbformat_minor": 0
}