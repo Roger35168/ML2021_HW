{
  "cells": [
    {
      "cell_type": "markdown",
      "metadata": {
        "id": "kj6QDJq-ghsk"
      },
      "source": [
        "### **下載資料**\n",
        "資料來源:[TIMIT](https://academictorrents.com/details/34e2b78745138186976cbc27939b1b34d18bd5b3)\n",
        "\n",
        "從google drive下載資料並解壓縮，應該要得到timit_11資料夾並包括以下檔案:\n",
        "*  train_11.npy     (訓練資料)\n",
        "*  train_label_11.npy  (訓練標籤)\n",
        "*  test_11.npy     (測試資料)\n",
        "\n"
      ]
    },
    {
      "cell_type": "code",
      "execution_count": 3,
      "metadata": {
        "id": "PfxGRfoXTELL",
        "colab": {
          "base_uri": "https://localhost:8080/"
        },
        "outputId": "b0003618-a46b-4aaf-fa49-de42f3f5aea8"
      },
      "outputs": [
        {
          "output_type": "stream",
          "name": "stdout",
          "text": [
            "/usr/local/lib/python3.10/dist-packages/gdown/cli.py:121: FutureWarning: Option `--id` was deprecated in version 4.3.1 and will be removed in 5.0. You don't need to pass it anymore to use a file ID.\n",
            "  warnings.warn(\n",
            "Downloading...\n",
            "From: https://drive.google.com/uc?id=1HPkcmQmFGu-3OknddKIa5dNDsR05lIQR\n",
            "To: /content/data.zip\n",
            "100% 372M/372M [00:04<00:00, 78.9MB/s]\n",
            "Archive:  data.zip\n",
            "   creating: timit_11/\n",
            "  inflating: timit_11/train_11.npy   \n",
            "  inflating: timit_11/test_11.npy    \n",
            "  inflating: timit_11/train_label_11.npy  \n",
            "data.zip  drive  sample_data  timit_11\n"
          ]
        }
      ],
      "source": [
        "# !gdown --id '1HPkcmQmFGu-3OknddKIa5dNDsR05lIQR' --output data.zip\n",
        "# !unzip data.zip\n",
        "# !ls"
      ]
    },
    {
      "cell_type": "markdown",
      "metadata": {
        "id": "mlzZ8BABfMig"
      },
      "source": [
        "### **準備資料**\n",
        "從.npy檔載入訓練跟測試資料"
      ]
    },
    {
      "cell_type": "code",
      "execution_count": 4,
      "metadata": {
        "id": "PkKK6RPjf4LA",
        "colab": {
          "base_uri": "https://localhost:8080/"
        },
        "outputId": "1d45060d-9115-422c-982d-c4ee359c3c41"
      },
      "outputs": [
        {
          "output_type": "stream",
          "name": "stdout",
          "text": [
            "Loading data ...\n",
            "Size of training data: (1229932, 429)\n",
            "Size of testing data: (451552, 429)\n"
          ]
        }
      ],
      "source": [
        "import numpy as np\n",
        "\n",
        "print('Loading data ...')\n",
        "\n",
        "data_root = './timit_11/'\n",
        "train = np.load(data_root + 'train_11.npy')\n",
        "train_label = np.load(data_root + 'train_label_11.npy')\n",
        "test = np.load(data_root + 'test_11.npy')\n",
        "\n",
        "print('Size of training data: {}'.format(train.shape))\n",
        "print('Size of testing data: {}'.format(test.shape))"
      ]
    },
    {
      "cell_type": "markdown",
      "metadata": {
        "id": "nc9wLuW9hawg"
      },
      "source": [
        "### **創建資料集**"
      ]
    },
    {
      "cell_type": "code",
      "execution_count": 5,
      "metadata": {
        "id": "GGI8JfM9haMA"
      },
      "outputs": [],
      "source": [
        "import torch\n",
        "from torch.utils.data import Dataset\n",
        "\n",
        "class TIMITDataset(Dataset):\n",
        "    def __init__(self, X, y=None):\n",
        "        self.data = torch.from_numpy(X).float()      # 將資料轉成浮點數並創建張量tensor\n",
        "        if y is not None:\n",
        "            y = y.astype(np.int)            # 將label轉成int\n",
        "            self.label = torch.LongTensor(y)      # 將label轉成tensor儲存\n",
        "        else:\n",
        "            self.label = None\n",
        "\n",
        "    def __getitem__(self, idx):\n",
        "        if self.label is not None:\n",
        "            return self.data[idx], self.label[idx]   # 一次取一筆訓練資料\n",
        "        else:\n",
        "            return self.data[idx]            # 一次取一筆測試資料\n",
        "\n",
        "    def __len__(self):\n",
        "        return len(self.data)"
      ]
    },
    {
      "cell_type": "markdown",
      "metadata": {
        "id": "rzZlwpFvP-os"
      },
      "source": [
        "### **訓練資料分割**\n",
        "將訓練資料分成訓練資料集跟驗證資料集，並用VAL_RATIO控制兩個資料集的比例"
      ]
    },
    {
      "cell_type": "code",
      "execution_count": 6,
      "metadata": {
        "id": "wAalufUbRy_U",
        "colab": {
          "base_uri": "https://localhost:8080/"
        },
        "outputId": "83c61de9-1a3a-47a0-8ac1-721cc5f5ea3b"
      },
      "outputs": [
        {
          "output_type": "stream",
          "name": "stdout",
          "text": [
            "Size of training set: (983945, 429)\n",
            "Size of validation set: (245987, 429)\n"
          ]
        }
      ],
      "source": [
        "VAL_RATIO = 0.2     # 控制兩個資料集的比例\n",
        "\n",
        "percent = int(train.shape[0] * (1 - VAL_RATIO))     # 計算訓練資料集的長度\n",
        "train_x, train_y, val_x, val_y = train[:percent], train_label[:percent], train[percent:], train_label[percent:]    # 根據長度對資料集進行分割\n",
        "print('Size of training set: {}'.format(train_x.shape))\n",
        "print('Size of validation set: {}'.format(val_x.shape))"
      ]
    },
    {
      "cell_type": "markdown",
      "metadata": {
        "id": "0xieaS_8f8q1"
      },
      "source": [
        "### **創建DataLoader**\n",
        "用Dataset創建DataLoader，並在這邊調整batch size\n"
      ]
    },
    {
      "cell_type": "code",
      "execution_count": 7,
      "metadata": {
        "id": "FMEhOwDSvmYc",
        "colab": {
          "base_uri": "https://localhost:8080/"
        },
        "outputId": "14f57d8d-4c7c-432e-8020-e6c209329d26"
      },
      "outputs": [
        {
          "output_type": "stream",
          "name": "stderr",
          "text": [
            "<ipython-input-5-22e4990471ea>:8: DeprecationWarning: `np.int` is a deprecated alias for the builtin `int`. To silence this warning, use `int` by itself. Doing this will not modify any behavior and is safe. When replacing `np.int`, you may wish to use e.g. `np.int64` or `np.int32` to specify the precision. If you wish to review your current use, check the release note link for additional information.\n",
            "Deprecated in NumPy 1.20; for more details and guidance: https://numpy.org/devdocs/release/1.20.0-notes.html#deprecations\n",
            "  y = y.astype(np.int)            # 將label轉成int\n"
          ]
        }
      ],
      "source": [
        "from torch.utils.data import DataLoader\n",
        "\n",
        "BATCH_SIZE = 256    # 調整batch size大小\n",
        "\n",
        "train_set = TIMITDataset(train_x, train_y)\n",
        "val_set = TIMITDataset(val_x, val_y)\n",
        "# 只在training開啟洗牌功能(shuffle)\n",
        "train_loader = DataLoader(train_set, batch_size=BATCH_SIZE, shuffle=True)\n",
        "val_loader = DataLoader(val_set, batch_size=BATCH_SIZE, shuffle=False)"
      ]
    },
    {
      "cell_type": "markdown",
      "metadata": {
        "id": "OOQmAR9MICkQ"
      },
      "source": [
        "### **清理不需要的變數**\n",
        "這次的資料集大小相當巨大，因此要要注意Colab記憶體的狀況\n",
        "\n",
        "透過清理不需要的變數來節省記憶體的空間，如果還需要在這個block被清理掉的變數，則將這個block刪掉或是晚點再清理變數\n",
        "\n",
        "參考資料:https://docs.python.org/zh-tw/3/library/gc.html"
      ]
    },
    {
      "cell_type": "code",
      "execution_count": 8,
      "metadata": {
        "id": "gBeFPVBEfI3k",
        "colab": {
          "base_uri": "https://localhost:8080/"
        },
        "outputId": "702305b7-eb77-422f-a8dc-714a6ff32845"
      },
      "outputs": [
        {
          "output_type": "execute_result",
          "data": {
            "text/plain": [
              "0"
            ]
          },
          "metadata": {},
          "execution_count": 8
        }
      ],
      "source": [
        "import gc\n",
        "# 用 del 清除以下變數(資料已存進dataset)\n",
        "del train, train_label, train_x, train_y, val_x, val_y\n",
        "gc.collect()     # 清除記憶體中不可訪問(未引用)的資料"
      ]
    },
    {
      "cell_type": "markdown",
      "metadata": {
        "id": "sL4JWWhXu_s3"
      },
      "source": [
        "### **創建 Model**\n",
        "定義model的結構，並嘗試拿到好的分數"
      ]
    },
    {
      "cell_type": "code",
      "execution_count": 9,
      "metadata": {
        "id": "7clYetVM1_jd"
      },
      "outputs": [],
      "source": [
        "import torch.nn as nn\n",
        "\n",
        "class Classifier(nn.Module):\n",
        "    def __init__(self):\n",
        "        super(Classifier, self).__init__()\n",
        "\n",
        "        # self.layer1 = nn.Linear(429, 1024)\n",
        "        # self.layer2 = nn.Linear(1024, 512)\n",
        "        # self.layer3 = nn.Linear(512, 128)\n",
        "        # self.out = nn.Linear(128, 39)\n",
        "\n",
        "        # self.act_fn = nn.Sigmoid()\n",
        "        self.net = nn.Sequential(\n",
        "            nn.Linear(429, 2048),\n",
        "            nn.ReLU(),\n",
        "            nn.BatchNorm1d(2048),\n",
        "            nn.Dropout(p=0.3),\n",
        "            nn.Linear(2048, 1024),\n",
        "            nn.ReLU(),\n",
        "            nn.BatchNorm1d(1024),\n",
        "            nn.Dropout(p=0.3),\n",
        "            nn.Linear(1024, 512),\n",
        "            nn.ReLU(),\n",
        "            nn.BatchNorm1d(512),\n",
        "            nn.Dropout(p=0.3),\n",
        "            nn.Linear(512, 128),\n",
        "            nn.ReLU(),\n",
        "            nn.BatchNorm1d(128),\n",
        "            nn.Linear(128, 64),\n",
        "            nn.ReLU(),\n",
        "            nn.BatchNorm1d(64),\n",
        "            nn.Linear(64, 39),\n",
        "        )\n",
        "\n",
        "    def forward(self, x):\n",
        "        # x = self.layer1(x)\n",
        "        # x = self.act_fn(x)\n",
        "\n",
        "        # x = self.layer2(x)\n",
        "        # x = self.act_fn(x)\n",
        "\n",
        "        # x = self.layer3(x)\n",
        "        # x = self.act_fn(x)\n",
        "\n",
        "        # x = self.out(x)\n",
        "\n",
        "        # return x\n",
        "        return self.net(x).squeeze(1)"
      ]
    },
    {
      "cell_type": "markdown",
      "metadata": {
        "id": "S-jonSeOP_1g"
      },
      "source": [
        "### **Training**"
      ]
    },
    {
      "cell_type": "code",
      "execution_count": 10,
      "metadata": {
        "id": "By6WaOewTCiP"
      },
      "outputs": [],
      "source": [
        "# 確認設備\n",
        "def get_device():\n",
        "  return 'cuda' if torch.cuda.is_available() else 'cpu'"
      ]
    },
    {
      "cell_type": "markdown",
      "metadata": {
        "id": "_Vgp-kdPTeDd"
      },
      "source": [
        "固定random seeds以確保在不更改參數的情況下，model的輸出不會改變\n",
        "\n",
        "參考資料:https://zhuanlan.zhihu.com/p/161575780"
      ]
    },
    {
      "cell_type": "code",
      "execution_count": 11,
      "metadata": {
        "id": "86xEwBIz9m8q"
      },
      "outputs": [],
      "source": [
        "def same_seeds(seed):\n",
        "    torch.manual_seed(seed)     # 為CPU設定random seed\n",
        "    if torch.cuda.is_available():\n",
        "        # torch.cuda.manual_seed(seed)    # 為特定GPU設定random seed\n",
        "        torch.cuda.manual_seed_all(seed)  # 為所有GPU設定random seed\n",
        "    np.random.seed(seed)\n",
        "    torch.backends.cudnn.benchmark = False    # 最佳化卷積層\n",
        "    torch.backends.cudnn.deterministic = True   # 讓GPU的輸出一致"
      ]
    },
    {
      "cell_type": "markdown",
      "metadata": {
        "id": "6X2w0AMJLeGL"
      },
      "source": [
        "調整訓練參數"
      ]
    },
    {
      "cell_type": "code",
      "execution_count": 12,
      "metadata": {
        "id": "_6fFA_8DLuKR",
        "colab": {
          "base_uri": "https://localhost:8080/"
        },
        "outputId": "0a5d8155-652b-4b10-e5b8-016e5baf8539"
      },
      "outputs": [
        {
          "output_type": "stream",
          "name": "stdout",
          "text": [
            "DEVICE: cpu\n"
          ]
        }
      ],
      "source": [
        "# 設定random seed\n",
        "same_seeds(0)\n",
        "\n",
        "# 抓取設備\n",
        "device = get_device()\n",
        "print(f'DEVICE: {device}')\n",
        "\n",
        "# 訓練參數\n",
        "num_epoch = 25\n",
        "learning_rate = 0.0001\n",
        "\n",
        "# 檢查點的儲存路徑\n",
        "model_path = './model.ckpt'\n",
        "\n",
        "# 創建模型，定義loss function與最佳化方法\n",
        "model = Classifier().to(device)\n",
        "criterion = nn.CrossEntropyLoss()\n",
        "optimizer = torch.optim.AdamW(model.parameters(), lr=learning_rate, weight_decay=0.001)"
      ]
    },
    {
      "cell_type": "markdown",
      "metadata": {
        "id": "3fXn130mOlEj"
      },
      "source": [
        "開始訓練"
      ]
    },
    {
      "cell_type": "code",
      "execution_count": 14,
      "metadata": {
        "id": "KUOKO8IlO0eJ",
        "colab": {
          "base_uri": "https://localhost:8080/"
        },
        "outputId": "22600a7c-062f-422a-f4fc-fb334e2c17cf"
      },
      "outputs": [
        {
          "output_type": "stream",
          "name": "stdout",
          "text": [
            "[001/025] Train Acc: 0.720192 Loss: 0.857543 | Val Acc: 0.732734 loss: 0.815058\n",
            "saving model with acc 0.733\n",
            "[002/025] Train Acc: 0.727885 Loss: 0.830760 | Val Acc: 0.736262 loss: 0.802504\n",
            "saving model with acc 0.736\n",
            "[003/025] Train Acc: 0.734547 Loss: 0.806456 | Val Acc: 0.739486 loss: 0.794233\n",
            "saving model with acc 0.739\n",
            "[004/025] Train Acc: 0.740527 Loss: 0.785943 | Val Acc: 0.742226 loss: 0.787263\n",
            "saving model with acc 0.742\n",
            "[005/025] Train Acc: 0.745762 Loss: 0.766671 | Val Acc: 0.742202 loss: 0.786355\n",
            "[006/025] Train Acc: 0.750046 Loss: 0.750841 | Val Acc: 0.744165 loss: 0.778025\n",
            "saving model with acc 0.744\n",
            "[007/025] Train Acc: 0.754981 Loss: 0.734828 | Val Acc: 0.746100 loss: 0.776190\n",
            "saving model with acc 0.746\n",
            "[008/025] Train Acc: 0.758396 Loss: 0.722187 | Val Acc: 0.745812 loss: 0.774358\n",
            "[009/025] Train Acc: 0.762296 Loss: 0.708990 | Val Acc: 0.748044 loss: 0.772317\n",
            "saving model with acc 0.748\n",
            "[010/025] Train Acc: 0.765025 Loss: 0.698039 | Val Acc: 0.748515 loss: 0.771817\n",
            "saving model with acc 0.749\n",
            "[011/025] Train Acc: 0.768453 Loss: 0.687159 | Val Acc: 0.748316 loss: 0.773814\n",
            "[012/025] Train Acc: 0.771643 Loss: 0.675423 | Val Acc: 0.748243 loss: 0.773580\n",
            "[013/025] Train Acc: 0.774445 Loss: 0.666273 | Val Acc: 0.747710 loss: 0.774060\n",
            "[014/025] Train Acc: 0.777332 Loss: 0.656787 | Val Acc: 0.749519 loss: 0.771897\n",
            "saving model with acc 0.750\n",
            "[015/025] Train Acc: 0.780109 Loss: 0.646941 | Val Acc: 0.749954 loss: 0.768109\n",
            "saving model with acc 0.750\n",
            "[016/025] Train Acc: 0.782451 Loss: 0.639448 | Val Acc: 0.751401 loss: 0.768306\n",
            "saving model with acc 0.751\n",
            "[017/025] Train Acc: 0.784899 Loss: 0.631989 | Val Acc: 0.749979 loss: 0.774845\n",
            "[018/025] Train Acc: 0.787219 Loss: 0.624164 | Val Acc: 0.750101 loss: 0.777155\n",
            "[019/025] Train Acc: 0.788902 Loss: 0.618717 | Val Acc: 0.751654 loss: 0.776196\n",
            "saving model with acc 0.752\n",
            "[020/025] Train Acc: 0.791106 Loss: 0.610071 | Val Acc: 0.751271 loss: 0.775007\n",
            "[021/025] Train Acc: 0.792477 Loss: 0.604946 | Val Acc: 0.751462 loss: 0.775776\n",
            "[022/025] Train Acc: 0.794610 Loss: 0.599116 | Val Acc: 0.752898 loss: 0.776999\n",
            "saving model with acc 0.753\n",
            "[023/025] Train Acc: 0.796529 Loss: 0.592366 | Val Acc: 0.751780 loss: 0.778685\n",
            "[024/025] Train Acc: 0.798372 Loss: 0.586869 | Val Acc: 0.751877 loss: 0.778449\n",
            "[025/025] Train Acc: 0.799912 Loss: 0.581708 | Val Acc: 0.750751 loss: 0.782795\n"
          ]
        }
      ],
      "source": [
        "best_acc = 0.0\n",
        "for epoch in range(num_epoch):\n",
        "    train_acc = 0.0\n",
        "    train_loss = 0.0\n",
        "    val_acc = 0.0\n",
        "    val_loss = 0.0\n",
        "\n",
        "    # training\n",
        "    model.train()   # 將model設成training model\n",
        "    for i, data in enumerate(train_loader):\n",
        "        inputs, labels = data                    # 從train_loader載入訓練input跟label\n",
        "        inputs, labels = inputs.to(device), labels.to(device)   # 將input跟label複製到device中進行運算\n",
        "        optimizer.zero_grad()                     # 將gradient設為0(避免梯度累積)\n",
        "        outputs = model(inputs)                   # 計算輸出(forward pass)\n",
        "        batch_loss = criterion(outputs, labels)           # 計算cross-entropy loss\n",
        "        _, train_pred = torch.max(outputs, 1)           # 找出outputs中最大值的位置(索引值)(0為列，1為行)\n",
        "        batch_loss.backward()                     # 計算gradient(backpropagation)\n",
        "        optimizer.step()                        # 更新參數\n",
        "\n",
        "        # 比較每筆training data的train_pred跟labels的值，相同回傳1不同回傳0\n",
        "        # 將train_pred.cpu() == labels.cpu()的值加總(越大越好)，再用item()讀取tensor值並回傳float\n",
        "        train_acc += (train_pred.cpu() == labels.cpu()).sum().item()\n",
        "        # 計算1個batch的loss\n",
        "        train_loss += batch_loss.item()\n",
        "\n",
        "    # validation\n",
        "    if len(val_set) > 0:\n",
        "        model.eval()                          # 將model設成evaluation model\n",
        "        with torch.no_grad():                     # 關掉梯度計算\n",
        "            for i, data in enumerate(val_loader):\n",
        "                inputs, labels = data\n",
        "                inputs, labels = inputs.to(device), labels.to(device)\n",
        "                outputs = model(inputs)\n",
        "                batch_loss = criterion(outputs, labels)\n",
        "                _, val_pred = torch.max(outputs, 1)     # 找出機率最高的class的索引值\n",
        "\n",
        "                val_acc += (val_pred.cpu() == labels.cpu()).sum().item()\n",
        "                val_loss += batch_loss.item()\n",
        "\n",
        "            # len(train_set)是指training data的數量，len(train_loader)是指batch的數量(len(train_set)/batch_size)\n",
        "            print('[{:03d}/{:03d}] Train Acc: {:3.6f} Loss: {:3.6f} | Val Acc: {:3.6f} loss: {:3.6f}'.format(\n",
        "                epoch + 1, num_epoch, train_acc/len(train_set), train_loss/len(train_loader), val_acc/len(val_set), val_loss/len(val_loader)\n",
        "            ))\n",
        "\n",
        "            # 如果model在驗證時的效果比較好，儲存該model的checkpoint\n",
        "            # model.state_dict()是用來查看model的參數(通常用於儲存model)\n",
        "            if val_acc > best_acc:\n",
        "                best_acc = val_acc\n",
        "                torch.save(model.state_dict(), model_path)\n",
        "                print('saving model with acc {:.3f}'.format(best_acc/len(val_set)))\n",
        "    else:\n",
        "        print('[{:03d}/{:03d}] Train Acc: {:3.6f} Loss: {:3.6f}'.format(\n",
        "            epoch + 1, num_epoch, train_acc/len(train_set), train_loss/len(train_loader)\n",
        "        ))"
      ]
    },
    {
      "cell_type": "markdown",
      "metadata": {
        "id": "0M87A8JDIgK8"
      },
      "source": [
        "### **Testing**\n",
        "創建測試資料集並從checkpoint載入訓練好的model"
      ]
    },
    {
      "cell_type": "code",
      "execution_count": 15,
      "metadata": {
        "id": "7DOcIApQI67l",
        "colab": {
          "base_uri": "https://localhost:8080/"
        },
        "outputId": "d926696e-46f9-4be2-dd24-dc13fac351bf"
      },
      "outputs": [
        {
          "output_type": "execute_result",
          "data": {
            "text/plain": [
              "<All keys matched successfully>"
            ]
          },
          "metadata": {},
          "execution_count": 15
        }
      ],
      "source": [
        "# 創建test_set與test_loader\n",
        "test_set = TIMITDataset(test, None)\n",
        "test_loader = DataLoader(test_set, batch_size=BATCH_SIZE, shuffle=False)\n",
        "\n",
        "# 創建模型並從checkpoint載入模型參數\n",
        "model = Classifier().to(device)\n",
        "model.load_state_dict(torch.load(model_path))"
      ]
    },
    {
      "cell_type": "markdown",
      "metadata": {
        "id": "L97BXZfzJ501"
      },
      "source": [
        "開始進行testing"
      ]
    },
    {
      "cell_type": "code",
      "execution_count": 16,
      "metadata": {
        "id": "c2fL05LAKF5L"
      },
      "outputs": [],
      "source": [
        "predict = []                       # 儲存預測結果\n",
        "model.eval()                        # 將model設成evaluation model\n",
        "with torch.no_grad():\n",
        "    for i, data in enumerate(test_loader):\n",
        "        inputs = data\n",
        "        inputs = inputs.to(device)\n",
        "        outputs = model(inputs)\n",
        "        _, test_pred = torch.max(outputs, 1)  # 找出機率最高的class的索引值\n",
        "\n",
        "        # 將預測結果儲存起來\n",
        "        for y in test_pred.cpu().numpy():\n",
        "            predict.append(y)"
      ]
    },
    {
      "cell_type": "markdown",
      "metadata": {
        "id": "dHlprvkzK-6l"
      },
      "source": [
        "將預測結果存成.csv檔，並將prediction.csv下載下來，之後放上kaggle進行評分"
      ]
    },
    {
      "cell_type": "code",
      "execution_count": 17,
      "metadata": {
        "id": "kNCSxjN7LZmi"
      },
      "outputs": [],
      "source": [
        "with open('prediction.csv', 'w') as f:\n",
        "    f.write('Id,Class\\n')\n",
        "    for i, y in enumerate(predict):\n",
        "        f.write('{},{}\\n'.format(i, y))"
      ]
    }
  ],
  "metadata": {
    "colab": {
      "provenance": []
    },
    "kernelspec": {
      "display_name": "Python 3",
      "name": "python3"
    },
    "language_info": {
      "name": "python"
    }
  },
  "nbformat": 4,
  "nbformat_minor": 0
}