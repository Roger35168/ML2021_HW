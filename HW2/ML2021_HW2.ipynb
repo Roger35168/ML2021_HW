{
  "cells": [
    {
      "cell_type": "markdown",
      "metadata": {
        "id": "kj6QDJq-ghsk"
      },
      "source": [
        "### **載入資料**\n",
        "資料來源:[TIMIT](https://academictorrents.com/details/34e2b78745138186976cbc27939b1b34d18bd5b3)\n",
        "\n",
        "從google drive下載資料並解壓縮，應該要得到timit_11資料夾並包括以下檔案:\n",
        "*  train_11.npy     (訓練資料)\n",
        "*  train_label_11.npy  (訓練標籤)\n",
        "*  test_11.npy     (測試資料)\n",
        "\n"
      ]
    },
    {
      "cell_type": "code",
      "execution_count": 3,
      "metadata": {
        "colab": {
          "base_uri": "https://localhost:8080/"
        },
        "id": "PfxGRfoXTELL",
        "outputId": "b0003618-a46b-4aaf-fa49-de42f3f5aea8"
      },
      "outputs": [
        {
          "name": "stdout",
          "output_type": "stream",
          "text": [
            "/usr/local/lib/python3.10/dist-packages/gdown/cli.py:121: FutureWarning: Option `--id` was deprecated in version 4.3.1 and will be removed in 5.0. You don't need to pass it anymore to use a file ID.\n",
            "  warnings.warn(\n",
            "Downloading...\n",
            "From: https://drive.google.com/uc?id=1HPkcmQmFGu-3OknddKIa5dNDsR05lIQR\n",
            "To: /content/data.zip\n",
            "100% 372M/372M [00:04<00:00, 78.9MB/s]\n",
            "Archive:  data.zip\n",
            "   creating: timit_11/\n",
            "  inflating: timit_11/train_11.npy   \n",
            "  inflating: timit_11/test_11.npy    \n",
            "  inflating: timit_11/train_label_11.npy  \n",
            "data.zip  drive  sample_data  timit_11\n"
          ]
        }
      ],
      "source": [
        "# !gdown --id '1HPkcmQmFGu-3OknddKIa5dNDsR05lIQR' --output data.zip\n",
        "# !unzip data.zip\n",
        "# !ls"
      ]
    },
    {
      "cell_type": "markdown",
      "metadata": {
        "id": "mlzZ8BABfMig"
      },
      "source": [
        "### **準備資料**\n",
        "從.npy檔載入訓練跟測試資料"
      ]
    },
    {
      "cell_type": "code",
      "execution_count": 55,
      "metadata": {
        "colab": {
          "base_uri": "https://localhost:8080/"
        },
        "id": "PkKK6RPjf4LA",
        "outputId": "1d45060d-9115-422c-982d-c4ee359c3c41"
      },
      "outputs": [
        {
          "name": "stdout",
          "output_type": "stream",
          "text": [
            "Loading data ...\n",
            "Size of training data: (1229932, 429)\n",
            "Size of testing data: (451552, 429)\n"
          ]
        }
      ],
      "source": [
        "import numpy as np\n",
        "\n",
        "print('Loading data ...')\n",
        "\n",
        "# data_root = './timit_11/'\n",
        "train = np.load('train_11.npy')\n",
        "train_label = np.load('train_label_11.npy')\n",
        "test = np.load('test_11.npy')\n",
        "\n",
        "print('Size of training data: {}'.format(train.shape))\n",
        "print('Size of testing data: {}'.format(test.shape))"
      ]
    },
    {
      "cell_type": "markdown",
      "metadata": {
        "id": "nc9wLuW9hawg"
      },
      "source": [
        "### **創建資料集**"
      ]
    },
    {
      "cell_type": "code",
      "execution_count": 56,
      "metadata": {
        "id": "GGI8JfM9haMA"
      },
      "outputs": [],
      "source": [
        "import torch\n",
        "from torch.utils.data import Dataset\n",
        "\n",
        "class TIMITDataset(Dataset):\n",
        "    def __init__(self, X, y=None):\n",
        "        self.data = torch.from_numpy(X).float()      # 將資料轉成浮點數並創建張量tensor\n",
        "        if y is not None:\n",
        "            y = y.astype(int)            # 將label轉成int\n",
        "            self.label = torch.LongTensor(y)      # 將label轉成tensor儲存\n",
        "        else:\n",
        "            self.label = None\n",
        "\n",
        "    def __getitem__(self, idx):\n",
        "        if self.label is not None:\n",
        "            return self.data[idx], self.label[idx]   # 一次取一筆訓練資料\n",
        "        else:\n",
        "            return self.data[idx]            # 一次取一筆測試資料\n",
        "\n",
        "    def __len__(self):\n",
        "        return len(self.data)"
      ]
    },
    {
      "cell_type": "markdown",
      "metadata": {
        "id": "rzZlwpFvP-os"
      },
      "source": [
        "### **訓練資料分割**\n",
        "將訓練資料分成訓練資料集跟驗證資料集，並用VAL_RATIO控制兩個資料集的比例"
      ]
    },
    {
      "cell_type": "code",
      "execution_count": 57,
      "metadata": {
        "colab": {
          "base_uri": "https://localhost:8080/"
        },
        "id": "wAalufUbRy_U",
        "outputId": "83c61de9-1a3a-47a0-8ac1-721cc5f5ea3b"
      },
      "outputs": [
        {
          "name": "stdout",
          "output_type": "stream",
          "text": [
            "Size of training set: (1106938, 429)\n",
            "Size of validation set: (122994, 429)\n"
          ]
        }
      ],
      "source": [
        "VAL_RATIO = 0.1     # 控制兩個資料集的比例\n",
        "\n",
        "percent = int(train.shape[0] * (1 - VAL_RATIO))     # 計算訓練資料集的長度\n",
        "train_x, train_y, val_x, val_y = train[:percent], train_label[:percent], train[percent:], train_label[percent:]    # 根據長度對資料集進行分割\n",
        "print('Size of training set: {}'.format(train_x.shape))\n",
        "print('Size of validation set: {}'.format(val_x.shape))"
      ]
    },
    {
      "cell_type": "markdown",
      "metadata": {
        "id": "0xieaS_8f8q1"
      },
      "source": [
        "### **創建DataLoader**\n",
        "用Dataset創建DataLoader，並在這邊調整batch size\n"
      ]
    },
    {
      "cell_type": "code",
      "execution_count": 58,
      "metadata": {
        "colab": {
          "base_uri": "https://localhost:8080/"
        },
        "id": "FMEhOwDSvmYc",
        "outputId": "14f57d8d-4c7c-432e-8020-e6c209329d26"
      },
      "outputs": [],
      "source": [
        "from torch.utils.data import DataLoader\n",
        "\n",
        "BATCH_SIZE = 128    # 調整batch size大小\n",
        "\n",
        "train_set = TIMITDataset(train_x, train_y)\n",
        "val_set = TIMITDataset(val_x, val_y)\n",
        "# 只在training開啟洗牌功能(shuffle)\n",
        "train_loader = DataLoader(train_set, batch_size=BATCH_SIZE, shuffle=True)\n",
        "val_loader = DataLoader(val_set, batch_size=BATCH_SIZE, shuffle=False)"
      ]
    },
    {
      "cell_type": "markdown",
      "metadata": {
        "id": "OOQmAR9MICkQ"
      },
      "source": [
        "### **清理不需要的變數**\n",
        "這次的資料集大小相當巨大，因此要要注意Colab記憶體的狀況\n",
        "\n",
        "透過清理不需要的變數來節省記憶體的空間，如果還需要在這個block被清理掉的變數，則將這個block刪掉或是晚點再清理變數\n",
        "\n",
        "參考資料:https://docs.python.org/zh-tw/3/library/gc.html"
      ]
    },
    {
      "cell_type": "code",
      "execution_count": 59,
      "metadata": {
        "colab": {
          "base_uri": "https://localhost:8080/"
        },
        "id": "gBeFPVBEfI3k",
        "outputId": "702305b7-eb77-422f-a8dc-714a6ff32845"
      },
      "outputs": [
        {
          "data": {
            "text/plain": [
              "2506"
            ]
          },
          "execution_count": 59,
          "metadata": {},
          "output_type": "execute_result"
        }
      ],
      "source": [
        "import gc\n",
        "# 用 del 清除以下變數(資料已存進dataset)\n",
        "del train, train_label, train_x, train_y, val_x, val_y\n",
        "gc.collect()     # 清除記憶體中不可訪問(未引用)的資料"
      ]
    },
    {
      "cell_type": "markdown",
      "metadata": {
        "id": "sL4JWWhXu_s3"
      },
      "source": [
        "### **創建 Model**\n",
        "定義model的結構，並嘗試拿到好的分數"
      ]
    },
    {
      "cell_type": "code",
      "execution_count": 61,
      "metadata": {
        "id": "7clYetVM1_jd"
      },
      "outputs": [],
      "source": [
        "import torch.nn as nn\n",
        "\n",
        "class Classifier(nn.Module):\n",
        "    def __init__(self):\n",
        "        super(Classifier, self).__init__()\n",
        "\n",
        "        # self.layer1 = nn.Linear(429, 1024)\n",
        "        # self.layer2 = nn.Linear(1024, 512)\n",
        "        # self.layer3 = nn.Linear(512, 128)\n",
        "        # self.out = nn.Linear(128, 39)\n",
        "\n",
        "        # self.act_fn = nn.Sigmoid()\n",
        "        self.net = nn.Sequential(\n",
        "            nn.Linear(429, 2048),\n",
        "            nn.ReLU(),\n",
        "            nn.BatchNorm1d(2048),\n",
        "            nn.Dropout(p=0.5),\n",
        "            nn.Linear(2048, 1024),\n",
        "            nn.ReLU(),\n",
        "            nn.BatchNorm1d(1024),\n",
        "            nn.Dropout(p=0.4),\n",
        "            nn.Linear(1024, 512),\n",
        "            nn.ReLU(),\n",
        "            nn.BatchNorm1d(512),\n",
        "            nn.Dropout(p=0.3),\n",
        "            nn.Linear(512, 256),\n",
        "            nn.ReLU(),\n",
        "            nn.BatchNorm1d(256),\n",
        "            nn.Dropout(p=0.2),\n",
        "            nn.Linear(256, 128),\n",
        "            nn.ReLU(),\n",
        "            nn.BatchNorm1d(128),\n",
        "            nn.Dropout(p=0.1),\n",
        "            nn.Linear(128, 64),\n",
        "            nn.ReLU(),\n",
        "            nn.BatchNorm1d(64),\n",
        "            nn.Linear(64, 39),\n",
        "        )\n",
        "\n",
        "    def forward(self, x):\n",
        "        # x = self.layer1(x)\n",
        "        # x = self.act_fn(x)\n",
        "\n",
        "        # x = self.layer2(x)\n",
        "        # x = self.act_fn(x)\n",
        "\n",
        "        # x = self.layer3(x)\n",
        "        # x = self.act_fn(x)\n",
        "\n",
        "        # x = self.out(x)\n",
        "\n",
        "        # return x\n",
        "        return self.net(x).squeeze(1)"
      ]
    },
    {
      "cell_type": "markdown",
      "metadata": {
        "id": "S-jonSeOP_1g"
      },
      "source": [
        "### **Training**"
      ]
    },
    {
      "cell_type": "code",
      "execution_count": 62,
      "metadata": {
        "id": "By6WaOewTCiP"
      },
      "outputs": [],
      "source": [
        "# 確認設備\n",
        "def get_device():\n",
        "  return 'cuda' if torch.cuda.is_available() else 'cpu'"
      ]
    },
    {
      "cell_type": "markdown",
      "metadata": {
        "id": "_Vgp-kdPTeDd"
      },
      "source": [
        "固定random seeds以確保在不更改參數的情況下，model的輸出不會改變\n",
        "\n",
        "參考資料:https://zhuanlan.zhihu.com/p/161575780"
      ]
    },
    {
      "cell_type": "code",
      "execution_count": 64,
      "metadata": {
        "id": "86xEwBIz9m8q"
      },
      "outputs": [],
      "source": [
        "def same_seeds(seed):\n",
        "    torch.manual_seed(seed)     # 為CPU設定random seed\n",
        "    if torch.cuda.is_available():\n",
        "        # torch.cuda.manual_seed(seed)    # 為特定GPU設定random seed\n",
        "        torch.cuda.manual_seed_all(seed)  # 為所有GPU設定random seed\n",
        "    np.random.seed(seed)\n",
        "    torch.backends.cudnn.benchmark = False    # 最佳化卷積層\n",
        "    torch.backends.cudnn.deterministic = True   # 讓GPU的輸出一致"
      ]
    },
    {
      "cell_type": "markdown",
      "metadata": {
        "id": "6X2w0AMJLeGL"
      },
      "source": [
        "調整訓練參數"
      ]
    },
    {
      "cell_type": "code",
      "execution_count": 66,
      "metadata": {
        "colab": {
          "base_uri": "https://localhost:8080/"
        },
        "id": "_6fFA_8DLuKR",
        "outputId": "0a5d8155-652b-4b10-e5b8-016e5baf8539"
      },
      "outputs": [
        {
          "name": "stdout",
          "output_type": "stream",
          "text": [
            "DEVICE: cuda\n"
          ]
        }
      ],
      "source": [
        "# 設定random seed\n",
        "same_seeds(0)\n",
        "\n",
        "# 抓取設備\n",
        "device = get_device()\n",
        "print(f'DEVICE: {device}')\n",
        "\n",
        "# 訓練參數\n",
        "num_epoch = 60\n",
        "learning_rate = 0.0001\n",
        "\n",
        "# 檢查點的儲存路徑\n",
        "model_path = './model.ckpt'\n",
        "\n",
        "# 創建模型，定義loss function與最佳化方法\n",
        "model = Classifier().to(device)\n",
        "criterion = nn.CrossEntropyLoss()\n",
        "optimizer = torch.optim.AdamW(model.parameters(), lr=learning_rate, weight_decay=0.0005)"
      ]
    },
    {
      "cell_type": "markdown",
      "metadata": {
        "id": "3fXn130mOlEj"
      },
      "source": [
        "開始訓練"
      ]
    },
    {
      "cell_type": "code",
      "execution_count": 67,
      "metadata": {
        "colab": {
          "base_uri": "https://localhost:8080/"
        },
        "id": "KUOKO8IlO0eJ",
        "outputId": "22600a7c-062f-422a-f4fc-fb334e2c17cf"
      },
      "outputs": [
        {
          "name": "stdout",
          "output_type": "stream",
          "text": [
            "[001/060] Train Acc: 0.547156 Loss: 1.552408 | Val Acc: 0.665878 loss: 1.070760\n",
            "saving model with acc 0.666\n",
            "[002/060] Train Acc: 0.626883 Loss: 1.204728 | Val Acc: 0.691139 loss: 0.970993\n",
            "saving model with acc 0.691\n",
            "[003/060] Train Acc: 0.648854 Loss: 1.121065 | Val Acc: 0.707221 loss: 0.913175\n",
            "saving model with acc 0.707\n",
            "[004/060] Train Acc: 0.662427 Loss: 1.069816 | Val Acc: 0.713734 loss: 0.884824\n",
            "saving model with acc 0.714\n",
            "[005/060] Train Acc: 0.671913 Loss: 1.034243 | Val Acc: 0.722035 loss: 0.857114\n",
            "saving model with acc 0.722\n",
            "[006/060] Train Acc: 0.679157 Loss: 1.006031 | Val Acc: 0.726361 loss: 0.838246\n",
            "saving model with acc 0.726\n",
            "[007/060] Train Acc: 0.686898 Loss: 0.980815 | Val Acc: 0.728377 loss: 0.828933\n",
            "saving model with acc 0.728\n",
            "[008/060] Train Acc: 0.691589 Loss: 0.962700 | Val Acc: 0.733678 loss: 0.810986\n",
            "saving model with acc 0.734\n",
            "[009/060] Train Acc: 0.696736 Loss: 0.944851 | Val Acc: 0.735459 loss: 0.804998\n",
            "saving model with acc 0.735\n",
            "[010/060] Train Acc: 0.700037 Loss: 0.931385 | Val Acc: 0.738190 loss: 0.795944\n",
            "saving model with acc 0.738\n",
            "[011/060] Train Acc: 0.704198 Loss: 0.917661 | Val Acc: 0.740906 loss: 0.786765\n",
            "saving model with acc 0.741\n",
            "[012/060] Train Acc: 0.707597 Loss: 0.905072 | Val Acc: 0.742012 loss: 0.783636\n",
            "saving model with acc 0.742\n",
            "[013/060] Train Acc: 0.709783 Loss: 0.895721 | Val Acc: 0.744549 loss: 0.775854\n",
            "saving model with acc 0.745\n",
            "[014/060] Train Acc: 0.712864 Loss: 0.885078 | Val Acc: 0.745695 loss: 0.769580\n",
            "saving model with acc 0.746\n",
            "[015/060] Train Acc: 0.715531 Loss: 0.877333 | Val Acc: 0.747028 loss: 0.765735\n",
            "saving model with acc 0.747\n",
            "[016/060] Train Acc: 0.717286 Loss: 0.869670 | Val Acc: 0.747671 loss: 0.759996\n",
            "saving model with acc 0.748\n",
            "[017/060] Train Acc: 0.719581 Loss: 0.861853 | Val Acc: 0.750134 loss: 0.755782\n",
            "saving model with acc 0.750\n",
            "[018/060] Train Acc: 0.721049 Loss: 0.854865 | Val Acc: 0.749297 loss: 0.759330\n",
            "[019/060] Train Acc: 0.723328 Loss: 0.847449 | Val Acc: 0.750102 loss: 0.755371\n",
            "[020/060] Train Acc: 0.725318 Loss: 0.841900 | Val Acc: 0.750476 loss: 0.752636\n",
            "saving model with acc 0.750\n",
            "[021/060] Train Acc: 0.726736 Loss: 0.837113 | Val Acc: 0.751687 loss: 0.750995\n",
            "saving model with acc 0.752\n",
            "[022/060] Train Acc: 0.728571 Loss: 0.830802 | Val Acc: 0.753419 loss: 0.744384\n",
            "saving model with acc 0.753\n",
            "[023/060] Train Acc: 0.729556 Loss: 0.826139 | Val Acc: 0.754411 loss: 0.742435\n",
            "saving model with acc 0.754\n",
            "[024/060] Train Acc: 0.731369 Loss: 0.819652 | Val Acc: 0.754882 loss: 0.738858\n",
            "saving model with acc 0.755\n",
            "[025/060] Train Acc: 0.732228 Loss: 0.816593 | Val Acc: 0.754443 loss: 0.742484\n",
            "[026/060] Train Acc: 0.733537 Loss: 0.811256 | Val Acc: 0.755386 loss: 0.738877\n",
            "saving model with acc 0.755\n",
            "[027/060] Train Acc: 0.735224 Loss: 0.808024 | Val Acc: 0.756728 loss: 0.736815\n",
            "saving model with acc 0.757\n",
            "[028/060] Train Acc: 0.736242 Loss: 0.803713 | Val Acc: 0.758159 loss: 0.734108\n",
            "saving model with acc 0.758\n",
            "[029/060] Train Acc: 0.736950 Loss: 0.800452 | Val Acc: 0.757964 loss: 0.734068\n",
            "[030/060] Train Acc: 0.738176 Loss: 0.797314 | Val Acc: 0.758159 loss: 0.733289\n",
            "[031/060] Train Acc: 0.738869 Loss: 0.792568 | Val Acc: 0.757565 loss: 0.730491\n",
            "[032/060] Train Acc: 0.739941 Loss: 0.789162 | Val Acc: 0.759070 loss: 0.726539\n",
            "saving model with acc 0.759\n",
            "[033/060] Train Acc: 0.740578 Loss: 0.785471 | Val Acc: 0.759265 loss: 0.729804\n",
            "saving model with acc 0.759\n",
            "[034/060] Train Acc: 0.741883 Loss: 0.782865 | Val Acc: 0.759753 loss: 0.726237\n",
            "saving model with acc 0.760\n",
            "[035/060] Train Acc: 0.742699 Loss: 0.779045 | Val Acc: 0.760492 loss: 0.725205\n",
            "saving model with acc 0.760\n",
            "[036/060] Train Acc: 0.743809 Loss: 0.776039 | Val Acc: 0.759899 loss: 0.726322\n",
            "[037/060] Train Acc: 0.744377 Loss: 0.773720 | Val Acc: 0.760631 loss: 0.724412\n",
            "saving model with acc 0.761\n",
            "[038/060] Train Acc: 0.745567 Loss: 0.772079 | Val Acc: 0.760915 loss: 0.722372\n",
            "saving model with acc 0.761\n",
            "[039/060] Train Acc: 0.745905 Loss: 0.768865 | Val Acc: 0.760777 loss: 0.724906\n",
            "[040/060] Train Acc: 0.746288 Loss: 0.766878 | Val Acc: 0.760956 loss: 0.724148\n",
            "saving model with acc 0.761\n",
            "[041/060] Train Acc: 0.746887 Loss: 0.764427 | Val Acc: 0.762281 loss: 0.720976\n",
            "saving model with acc 0.762\n",
            "[042/060] Train Acc: 0.748136 Loss: 0.761123 | Val Acc: 0.761086 loss: 0.720489\n",
            "[043/060] Train Acc: 0.748665 Loss: 0.758689 | Val Acc: 0.761265 loss: 0.722677\n",
            "[044/060] Train Acc: 0.749150 Loss: 0.756917 | Val Acc: 0.762647 loss: 0.718891\n",
            "saving model with acc 0.763\n",
            "[045/060] Train Acc: 0.749592 Loss: 0.754415 | Val Acc: 0.762289 loss: 0.720684\n",
            "[046/060] Train Acc: 0.750456 Loss: 0.751799 | Val Acc: 0.762240 loss: 0.718873\n",
            "[047/060] Train Acc: 0.750439 Loss: 0.751250 | Val Acc: 0.762842 loss: 0.719447\n",
            "saving model with acc 0.763\n",
            "[048/060] Train Acc: 0.751118 Loss: 0.748540 | Val Acc: 0.762419 loss: 0.718524\n",
            "[049/060] Train Acc: 0.752630 Loss: 0.744311 | Val Acc: 0.762541 loss: 0.717869\n",
            "[050/060] Train Acc: 0.752656 Loss: 0.743719 | Val Acc: 0.764615 loss: 0.714931\n",
            "saving model with acc 0.765\n",
            "[051/060] Train Acc: 0.753492 Loss: 0.741716 | Val Acc: 0.764289 loss: 0.716647\n",
            "[052/060] Train Acc: 0.753537 Loss: 0.739339 | Val Acc: 0.765159 loss: 0.715109\n",
            "saving model with acc 0.765\n",
            "[053/060] Train Acc: 0.754367 Loss: 0.738759 | Val Acc: 0.762679 loss: 0.718823\n",
            "[054/060] Train Acc: 0.754833 Loss: 0.735886 | Val Acc: 0.765208 loss: 0.712932\n",
            "saving model with acc 0.765\n",
            "[055/060] Train Acc: 0.755521 Loss: 0.735145 | Val Acc: 0.763663 loss: 0.713464\n",
            "[056/060] Train Acc: 0.755934 Loss: 0.733422 | Val Acc: 0.763452 loss: 0.715799\n",
            "[057/060] Train Acc: 0.756581 Loss: 0.731235 | Val Acc: 0.764224 loss: 0.713140\n",
            "[058/060] Train Acc: 0.756235 Loss: 0.729704 | Val Acc: 0.765777 loss: 0.709180\n",
            "saving model with acc 0.766\n",
            "[059/060] Train Acc: 0.756914 Loss: 0.728650 | Val Acc: 0.764964 loss: 0.710988\n",
            "[060/060] Train Acc: 0.757748 Loss: 0.727087 | Val Acc: 0.765753 loss: 0.709244\n"
          ]
        }
      ],
      "source": [
        "best_acc = 0.0\n",
        "for epoch in range(num_epoch):\n",
        "    train_acc = 0.0\n",
        "    train_loss = 0.0\n",
        "    val_acc = 0.0\n",
        "    val_loss = 0.0\n",
        "\n",
        "    # training\n",
        "    model.train()   # 將model設成training model\n",
        "    for i, data in enumerate(train_loader):\n",
        "        inputs, labels = data                    # 從train_loader載入訓練input跟label\n",
        "        inputs, labels = inputs.to(device), labels.to(device)   # 將input跟label複製到device中進行運算\n",
        "        optimizer.zero_grad()                     # 將gradient設為0(避免梯度累積)\n",
        "        outputs = model(inputs)                   # 計算輸出(forward pass)\n",
        "        batch_loss = criterion(outputs, labels)           # 計算cross-entropy loss\n",
        "        _, train_pred = torch.max(outputs, 1)           # 找出outputs中最大值的位置(索引值)(0為列，1為行)\n",
        "        batch_loss.backward()                     # 計算gradient(backpropagation)\n",
        "        optimizer.step()                        # 更新參數\n",
        "\n",
        "        # 比較每筆training data的train_pred跟labels的值，相同回傳1不同回傳0\n",
        "        # 將train_pred.cpu() == labels.cpu()的值加總(越大越好)，再用item()讀取tensor值並回傳float\n",
        "        train_acc += (train_pred.cpu() == labels.cpu()).sum().item()\n",
        "        # 計算1個batch的loss\n",
        "        train_loss += batch_loss.item()\n",
        "\n",
        "    # validation\n",
        "    if len(val_set) > 0:\n",
        "        model.eval()                          # 將model設成evaluation model\n",
        "        with torch.no_grad():                     # 關掉梯度計算\n",
        "            for i, data in enumerate(val_loader):\n",
        "                inputs, labels = data\n",
        "                inputs, labels = inputs.to(device), labels.to(device)\n",
        "                outputs = model(inputs)\n",
        "                batch_loss = criterion(outputs, labels)\n",
        "                _, val_pred = torch.max(outputs, 1)     # 找出機率最高的class的索引值\n",
        "\n",
        "                val_acc += (val_pred.cpu() == labels.cpu()).sum().item()\n",
        "                val_loss += batch_loss.item()\n",
        "\n",
        "            # len(train_set)是指training data的數量，len(train_loader)是指batch的數量(len(train_set)/batch_size)\n",
        "            print('[{:03d}/{:03d}] Train Acc: {:3.6f} Loss: {:3.6f} | Val Acc: {:3.6f} loss: {:3.6f}'.format(\n",
        "                epoch + 1, num_epoch, train_acc/len(train_set), train_loss/len(train_loader), val_acc/len(val_set), val_loss/len(val_loader)\n",
        "            ))\n",
        "\n",
        "            # 如果model在驗證時的效果比較好，儲存該model的checkpoint\n",
        "            # model.state_dict()是用來查看model的參數(通常用於儲存model)\n",
        "            if val_acc > best_acc:\n",
        "                best_acc = val_acc\n",
        "                torch.save(model.state_dict(), model_path)\n",
        "                print('saving model with acc {:.3f}'.format(best_acc/len(val_set)))\n",
        "    else:\n",
        "        print('[{:03d}/{:03d}] Train Acc: {:3.6f} Loss: {:3.6f}'.format(\n",
        "            epoch + 1, num_epoch, train_acc/len(train_set), train_loss/len(train_loader)\n",
        "        ))"
      ]
    },
    {
      "cell_type": "markdown",
      "metadata": {
        "id": "0M87A8JDIgK8"
      },
      "source": [
        "### **Testing**\n",
        "創建測試資料集並從checkpoint載入訓練好的model"
      ]
    },
    {
      "cell_type": "code",
      "execution_count": 68,
      "metadata": {
        "colab": {
          "base_uri": "https://localhost:8080/"
        },
        "id": "7DOcIApQI67l",
        "outputId": "d926696e-46f9-4be2-dd24-dc13fac351bf"
      },
      "outputs": [
        {
          "data": {
            "text/plain": [
              "<All keys matched successfully>"
            ]
          },
          "execution_count": 68,
          "metadata": {},
          "output_type": "execute_result"
        }
      ],
      "source": [
        "# 創建test_set與test_loader\n",
        "test_set = TIMITDataset(test, None)\n",
        "test_loader = DataLoader(test_set, batch_size=BATCH_SIZE, shuffle=False)\n",
        "\n",
        "# 創建模型並從checkpoint載入模型參數\n",
        "model = Classifier().to(device)\n",
        "model.load_state_dict(torch.load(model_path))"
      ]
    },
    {
      "cell_type": "markdown",
      "metadata": {
        "id": "L97BXZfzJ501"
      },
      "source": [
        "開始進行testing"
      ]
    },
    {
      "cell_type": "code",
      "execution_count": 69,
      "metadata": {
        "id": "c2fL05LAKF5L"
      },
      "outputs": [],
      "source": [
        "predict = []                       # 儲存預測結果\n",
        "model.eval()                        # 將model設成evaluation model\n",
        "with torch.no_grad():\n",
        "    for i, data in enumerate(test_loader):\n",
        "        inputs = data\n",
        "        inputs = inputs.to(device)\n",
        "        outputs = model(inputs)\n",
        "        _, test_pred = torch.max(outputs, 1)  # 找出機率最高的class的索引值\n",
        "\n",
        "        # 將預測結果儲存起來\n",
        "        for y in test_pred.cpu().numpy():\n",
        "            predict.append(y)"
      ]
    },
    {
      "cell_type": "markdown",
      "metadata": {
        "id": "dHlprvkzK-6l"
      },
      "source": [
        "將預測結果存成.csv檔，並將prediction.csv下載下來，之後放上kaggle進行評分"
      ]
    },
    {
      "cell_type": "code",
      "execution_count": 70,
      "metadata": {
        "id": "kNCSxjN7LZmi"
      },
      "outputs": [],
      "source": [
        "with open('prediction.csv', 'w') as f:\n",
        "    f.write('Id,Class\\n')\n",
        "    for i, y in enumerate(predict):\n",
        "        f.write('{},{}\\n'.format(i, y))"
      ]
    }
  ],
  "metadata": {
    "colab": {
      "provenance": []
    },
    "kernelspec": {
      "display_name": "Python 3",
      "name": "python3"
    },
    "language_info": {
      "codemirror_mode": {
        "name": "ipython",
        "version": 3
      },
      "file_extension": ".py",
      "mimetype": "text/x-python",
      "name": "python",
      "nbconvert_exporter": "python",
      "pygments_lexer": "ipython3",
      "version": "3.8.16"
    }
  },
  "nbformat": 4,
  "nbformat_minor": 0
}
