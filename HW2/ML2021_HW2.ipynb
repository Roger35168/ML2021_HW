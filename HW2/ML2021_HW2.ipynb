{
  "cells": [
    {
      "cell_type": "markdown",
      "metadata": {
        "id": "kj6QDJq-ghsk"
      },
      "source": [
        "### **下載資料**\n",
        "資料來源:[TIMIT](https://academictorrents.com/details/34e2b78745138186976cbc27939b1b34d18bd5b3)\n",
        "\n",
        "從google drive下載資料並解壓縮，應該要得到timit_11資料夾並包括以下檔案:\n",
        "*  train_11.npy     (訓練資料)\n",
        "*  train_label_11.npy  (訓練標籤)\n",
        "*  test_11.npy     (測試資料)\n",
        "\n"
      ]
    },
    {
      "cell_type": "code",
      "execution_count": 1,
      "metadata": {
        "colab": {
          "base_uri": "https://localhost:8080/"
        },
        "id": "PfxGRfoXTELL",
        "outputId": "83476f5b-5f06-458c-d93c-c61922688a28"
      },
      "outputs": [
        {
          "output_type": "stream",
          "name": "stdout",
          "text": [
            "/usr/local/lib/python3.10/dist-packages/gdown/cli.py:121: FutureWarning: Option `--id` was deprecated in version 4.3.1 and will be removed in 5.0. You don't need to pass it anymore to use a file ID.\n",
            "  warnings.warn(\n",
            "Downloading...\n",
            "From: https://drive.google.com/uc?id=1HPkcmQmFGu-3OknddKIa5dNDsR05lIQR\n",
            "To: /content/data.zip\n",
            "100% 372M/372M [00:02<00:00, 161MB/s]\n",
            "Archive:  data.zip\n",
            "   creating: timit_11/\n",
            "  inflating: timit_11/train_11.npy   \n",
            "  inflating: timit_11/test_11.npy    \n",
            "  inflating: timit_11/train_label_11.npy  \n",
            "data.zip  sample_data  timit_11\n"
          ]
        }
      ],
      "source": [
        "!gdown --id '1HPkcmQmFGu-3OknddKIa5dNDsR05lIQR' --output data.zip\n",
        "!unzip data.zip\n",
        "!ls"
      ]
    },
    {
      "cell_type": "markdown",
      "metadata": {
        "id": "mlzZ8BABfMig"
      },
      "source": [
        "### **準備資料**\n",
        "從.npy檔載入訓練跟測試資料"
      ]
    },
    {
      "cell_type": "code",
      "execution_count": 2,
      "metadata": {
        "id": "PkKK6RPjf4LA",
        "colab": {
          "base_uri": "https://localhost:8080/"
        },
        "outputId": "d999595e-fd5a-440b-8936-0ef5a8b4e3f8"
      },
      "outputs": [
        {
          "output_type": "stream",
          "name": "stdout",
          "text": [
            "Loading data ...\n",
            "Size of training data: (1229932, 429)\n",
            "Size of testing data: (451552, 429)\n"
          ]
        }
      ],
      "source": [
        "import numpy as np\n",
        "\n",
        "print('Loading data ...')\n",
        "\n",
        "data_root = './timit_11/'\n",
        "train = np.load(data_root + 'train_11.npy')\n",
        "train_label = np.load(data_root + 'train_label_11.npy')\n",
        "test = np.load(data_root + 'test_11.npy')\n",
        "\n",
        "print('Size of training data: {}'.format(train.shape))\n",
        "print('Size of testing data: {}'.format(test.shape))"
      ]
    },
    {
      "cell_type": "markdown",
      "metadata": {
        "id": "nc9wLuW9hawg"
      },
      "source": [
        "### **創建資料集**"
      ]
    },
    {
      "cell_type": "code",
      "execution_count": 3,
      "metadata": {
        "id": "GGI8JfM9haMA"
      },
      "outputs": [],
      "source": [
        "import torch\n",
        "from torch.utils.data import Dataset\n",
        "\n",
        "class TIMITDataset(Dataset):\n",
        "    def __init__(self, X, y=None):\n",
        "        self.data = torch.from_numpy(X).float()      # 將資料轉成浮點數並創建張量tensor\n",
        "        if y is not None:\n",
        "            y = y.astype(np.int)            # 將label轉成int\n",
        "            self.label = torch.LongTensor(y)      # 將label轉成tensor儲存\n",
        "        else:\n",
        "            self.label = None\n",
        "\n",
        "    def __getitem__(self, idx):\n",
        "        if self.label is not None:\n",
        "            return self.data[idx], self.label[idx]   # 一次取一筆訓練資料\n",
        "        else:\n",
        "            return self.data[idx]            # 一次取一筆測試資料\n",
        "\n",
        "    def __len__(self):\n",
        "        return len(self.data)"
      ]
    },
    {
      "cell_type": "markdown",
      "metadata": {
        "id": "rzZlwpFvP-os"
      },
      "source": [
        "### **訓練資料分割**\n",
        "將訓練資料分成訓練資料集跟驗證資料集，並用VAL_RATIO控制兩個資料集的比例"
      ]
    },
    {
      "cell_type": "code",
      "execution_count": 4,
      "metadata": {
        "id": "wAalufUbRy_U",
        "colab": {
          "base_uri": "https://localhost:8080/"
        },
        "outputId": "a0b57153-5960-41bb-b9f1-cf7ef851b08c"
      },
      "outputs": [
        {
          "output_type": "stream",
          "name": "stdout",
          "text": [
            "Size of training set: (983945, 429)\n",
            "Size of validation set: (245987, 429)\n"
          ]
        }
      ],
      "source": [
        "VAL_RATIO = 0.2     # 控制兩個資料集的比例\n",
        "\n",
        "percent = int(train.shape[0] * (1 - VAL_RATIO))     # 計算訓練資料集的長度\n",
        "train_x, train_y, val_x, val_y = train[:percent], train_label[:percent], train[percent:], train_label[percent:]    # 根據長度對資料集進行分割\n",
        "print('Size of training set: {}'.format(train_x.shape))\n",
        "print('Size of validation set: {}'.format(val_x.shape))"
      ]
    },
    {
      "cell_type": "markdown",
      "metadata": {
        "id": "0xieaS_8f8q1"
      },
      "source": [
        "### **創建DataLoader**\n",
        "用Dataset創建DataLoader，並在這邊調整batch size\n"
      ]
    },
    {
      "cell_type": "code",
      "execution_count": 5,
      "metadata": {
        "id": "FMEhOwDSvmYc",
        "colab": {
          "base_uri": "https://localhost:8080/"
        },
        "outputId": "c369a7fe-5d78-497a-fbb2-b28c7a445894"
      },
      "outputs": [
        {
          "output_type": "stream",
          "name": "stderr",
          "text": [
            "<ipython-input-3-22e4990471ea>:8: DeprecationWarning: `np.int` is a deprecated alias for the builtin `int`. To silence this warning, use `int` by itself. Doing this will not modify any behavior and is safe. When replacing `np.int`, you may wish to use e.g. `np.int64` or `np.int32` to specify the precision. If you wish to review your current use, check the release note link for additional information.\n",
            "Deprecated in NumPy 1.20; for more details and guidance: https://numpy.org/devdocs/release/1.20.0-notes.html#deprecations\n",
            "  y = y.astype(np.int)            # 將label轉成int\n"
          ]
        }
      ],
      "source": [
        "from torch.utils.data import DataLoader\n",
        "\n",
        "BATCH_SIZE = 64    # 調整batch size大小\n",
        "\n",
        "train_set = TIMITDataset(train_x, train_y)\n",
        "val_set = TIMITDataset(val_x, val_y)\n",
        "# 只在training開啟洗牌功能(shuffle)\n",
        "train_loader = DataLoader(train_set, batch_size=BATCH_SIZE, shuffle=True)\n",
        "val_loader = DataLoader(val_set, batch_size=BATCH_SIZE, shuffle=False)"
      ]
    },
    {
      "cell_type": "markdown",
      "metadata": {
        "id": "OOQmAR9MICkQ"
      },
      "source": [
        "### **清理不需要的變數**\n",
        "這次的資料集大小相當巨大，因此要要注意Colab記憶體的狀況\n",
        "\n",
        "透過清理不需要的變數來節省記憶體的空間，如果還需要在這個block被清理掉的變數，則將這個block刪掉或是晚點再清理變數\n",
        "\n",
        "參考資料:https://docs.python.org/zh-tw/3/library/gc.html"
      ]
    },
    {
      "cell_type": "code",
      "execution_count": 6,
      "metadata": {
        "id": "gBeFPVBEfI3k",
        "colab": {
          "base_uri": "https://localhost:8080/"
        },
        "outputId": "edba623e-6627-49e4-fdae-3e78b2c51cac"
      },
      "outputs": [
        {
          "output_type": "execute_result",
          "data": {
            "text/plain": [
              "0"
            ]
          },
          "metadata": {},
          "execution_count": 6
        }
      ],
      "source": [
        "import gc\n",
        "# 用 del 清除以下變數(資料已存進dataset)\n",
        "del train, train_label, train_x, train_y, val_x, val_y\n",
        "gc.collect()     # 清除記憶體中不可訪問(未引用)的資料"
      ]
    },
    {
      "cell_type": "markdown",
      "metadata": {
        "id": "sL4JWWhXu_s3"
      },
      "source": [
        "### **創建 Model**\n",
        "定義model的結構，並嘗試拿到好的分數"
      ]
    },
    {
      "cell_type": "code",
      "execution_count": 7,
      "metadata": {
        "id": "7clYetVM1_jd"
      },
      "outputs": [],
      "source": [
        "import torch.nn as nn\n",
        "\n",
        "class Classifier(nn.Module):\n",
        "    def __init__(self):\n",
        "        super(Classifier, self).__init__()\n",
        "\n",
        "        # self.layer1 = nn.Linear(429, 1024)\n",
        "        # self.layer2 = nn.Linear(1024, 512)\n",
        "        # self.layer3 = nn.Linear(512, 128)\n",
        "        # self.out = nn.Linear(128, 39)\n",
        "\n",
        "        # self.act_fn = nn.Sigmoid()\n",
        "        self.net = nn.Sequential(\n",
        "            nn.Linear(429, 1024),\n",
        "            nn.ReLU(),\n",
        "            nn.BatchNorm1d(1024),\n",
        "            nn.Dropout(p=0.2),\n",
        "            nn.Linear(1024, 512),\n",
        "            nn.ReLU(),\n",
        "            nn.BatchNorm1d(512),\n",
        "            nn.Linear(512, 128),\n",
        "            nn.ReLU(),\n",
        "            nn.BatchNorm1d(128),\n",
        "            nn.Linear(128, 64),\n",
        "            nn.ReLU(),\n",
        "            nn.BatchNorm1d(64),\n",
        "            nn.Linear(64, 39),\n",
        "        )\n",
        "\n",
        "    def forward(self, x):\n",
        "        # x = self.layer1(x)\n",
        "        # x = self.act_fn(x)\n",
        "\n",
        "        # x = self.layer2(x)\n",
        "        # x = self.act_fn(x)\n",
        "\n",
        "        # x = self.layer3(x)\n",
        "        # x = self.act_fn(x)\n",
        "\n",
        "        # x = self.out(x)\n",
        "\n",
        "        # return x\n",
        "        return self.net(x).squeeze(1)"
      ]
    },
    {
      "cell_type": "markdown",
      "source": [
        "### **Training**"
      ],
      "metadata": {
        "id": "S-jonSeOP_1g"
      }
    },
    {
      "cell_type": "code",
      "source": [
        "# 確認設備\n",
        "def get_device():\n",
        "  return 'cuda' if torch.cuda.is_available() else 'cpu'"
      ],
      "metadata": {
        "id": "By6WaOewTCiP"
      },
      "execution_count": 8,
      "outputs": []
    },
    {
      "cell_type": "markdown",
      "source": [
        "固定random seeds以確保在不更改參數的情況下，model的輸出不會改變\n",
        "\n",
        "參考資料:https://zhuanlan.zhihu.com/p/161575780"
      ],
      "metadata": {
        "id": "_Vgp-kdPTeDd"
      }
    },
    {
      "cell_type": "code",
      "source": [
        "def same_seeds(seed):\n",
        "    torch.manual_seed(seed)     # 為CPU設定random seed\n",
        "    if torch.cuda.is_available():\n",
        "        # torch.cuda.manual_seed(seed)    # 為特定GPU設定random seed\n",
        "        torch.cuda.manual_seed_all(seed)  # 為所有GPU設定random seed\n",
        "    np.random.seed(seed)\n",
        "    torch.backends.cudnn.benchmark = False    # 最佳化卷積層\n",
        "    torch.backends.cudnn.deterministic = True   # 讓GPU的輸出一致"
      ],
      "metadata": {
        "id": "86xEwBIz9m8q"
      },
      "execution_count": 9,
      "outputs": []
    },
    {
      "cell_type": "markdown",
      "source": [
        "調整訓練參數"
      ],
      "metadata": {
        "id": "6X2w0AMJLeGL"
      }
    },
    {
      "cell_type": "code",
      "source": [
        "# 設定random seed\n",
        "same_seeds(0)\n",
        "\n",
        "# 抓取設備\n",
        "device = get_device()\n",
        "print(f'DEVICE: {device}')\n",
        "\n",
        "# 訓練參數\n",
        "num_epoch = 20\n",
        "learning_rate = 0.0005\n",
        "\n",
        "# 檢查點的儲存路徑\n",
        "model_path = './model.ckpt'\n",
        "\n",
        "# 創建模型，定義loss function與最佳化方法\n",
        "model = Classifier().to(device)\n",
        "criterion = nn.CrossEntropyLoss()\n",
        "optimizer = torch.optim.AdamW(model.parameters(), lr=learning_rate, weight_decay=0.001)"
      ],
      "metadata": {
        "colab": {
          "base_uri": "https://localhost:8080/"
        },
        "id": "_6fFA_8DLuKR",
        "outputId": "83d4cca9-3550-4475-ebe2-1385183a2f1a"
      },
      "execution_count": 10,
      "outputs": [
        {
          "output_type": "stream",
          "name": "stdout",
          "text": [
            "DEVICE: cuda\n"
          ]
        }
      ]
    },
    {
      "cell_type": "markdown",
      "source": [
        "開始訓練"
      ],
      "metadata": {
        "id": "3fXn130mOlEj"
      }
    },
    {
      "cell_type": "code",
      "source": [
        "best_acc = 0.0\n",
        "for epoch in range(num_epoch):\n",
        "    train_acc = 0.0\n",
        "    train_loss = 0.0\n",
        "    val_acc = 0.0\n",
        "    val_loss = 0.0\n",
        "\n",
        "    # training\n",
        "    model.train()   # 將model設成training model\n",
        "    for i, data in enumerate(train_loader):\n",
        "        inputs, labels = data                    # 從train_loader載入訓練input跟label\n",
        "        inputs, labels = inputs.to(device), labels.to(device)   # 將input跟label複製到device中進行運算\n",
        "        optimizer.zero_grad()                     # 將gradient設為0(避免梯度累積)\n",
        "        outputs = model(inputs)                   # 計算輸出(forward pass)\n",
        "        batch_loss = criterion(outputs, labels)           # 計算cross-entropy loss\n",
        "        _, train_pred = torch.max(outputs, 1)           # 找出outputs中最大值的位置(索引值)(0為列，1為行)\n",
        "        batch_loss.backward()                     # 計算gradient(backpropagation)\n",
        "        optimizer.step()                        # 更新參數\n",
        "\n",
        "        # 比較每筆training data的train_pred跟labels的值，相同回傳1不同回傳0\n",
        "        # 將train_pred.cpu() == labels.cpu()的值加總(越大越好)，再用item()讀取tensor值並回傳float\n",
        "        train_acc += (train_pred.cpu() == labels.cpu()).sum().item()\n",
        "        # 計算1個batch的loss\n",
        "        train_loss += batch_loss.item()\n",
        "\n",
        "    # validation\n",
        "    if len(val_set) > 0:\n",
        "        model.eval()                          # 將model設成evaluation model\n",
        "        with torch.no_grad():                     # 關掉梯度計算\n",
        "            for i, data in enumerate(val_loader):\n",
        "                inputs, labels = data\n",
        "                inputs, labels = inputs.to(device), labels.to(device)\n",
        "                outputs = model(inputs)\n",
        "                batch_loss = criterion(outputs, labels)\n",
        "                _, val_pred = torch.max(outputs, 1)     # 找出機率最高的class的索引值\n",
        "\n",
        "                val_acc += (val_pred.cpu() == labels.cpu()).sum().item()\n",
        "                val_loss += batch_loss.item()\n",
        "\n",
        "            # len(train_set)是指training data的數量，len(train_loader)是指batch的數量(len(train_set)/batch_size)\n",
        "            print('[{:03d}/{:03d}] Train Acc: {:3.6f} Loss: {:3.6f} | Val Acc: {:3.6f} loss: {:3.6f}'.format(\n",
        "                epoch + 1, num_epoch, train_acc/len(train_set), train_loss/len(train_loader), val_acc/len(val_set), val_loss/len(val_loader)\n",
        "            ))\n",
        "\n",
        "            # 如果model在驗證時的效果比較好，儲存該model的checkpoint\n",
        "            # model.state_dict()是用來查看model的參數(通常用於儲存model)\n",
        "            if val_acc > best_acc:\n",
        "                best_acc = val_acc\n",
        "                torch.save(model.state_dict(), model_path)\n",
        "                print('saving model with acc {:.3f}'.format(best_acc/len(val_set)))\n",
        "    else:\n",
        "        print('[{:03d}/{:03d}] Train Acc: {:3.6f} Loss: {:3.6f}'.format(\n",
        "            epoch + 1, num_epoch, train_acc/len(train_set), train_loss/len(train_loader)\n",
        "        ))"
      ],
      "metadata": {
        "colab": {
          "base_uri": "https://localhost:8080/"
        },
        "id": "KUOKO8IlO0eJ",
        "outputId": "2dc5e56a-e94d-4efb-ea26-b665d6875e75"
      },
      "execution_count": 11,
      "outputs": [
        {
          "output_type": "stream",
          "name": "stdout",
          "text": [
            "[001/020] Train Acc: 0.627879 Loss: 1.194293 | Val Acc: 0.690386 loss: 0.958849\n",
            "saving model with acc 0.690\n",
            "[002/020] Train Acc: 0.685505 Loss: 0.972861 | Val Acc: 0.710704 loss: 0.885418\n",
            "saving model with acc 0.711\n",
            "[003/020] Train Acc: 0.707166 Loss: 0.896811 | Val Acc: 0.718034 loss: 0.863880\n",
            "saving model with acc 0.718\n",
            "[004/020] Train Acc: 0.720227 Loss: 0.849877 | Val Acc: 0.722526 loss: 0.847654\n",
            "saving model with acc 0.723\n",
            "[005/020] Train Acc: 0.730714 Loss: 0.813147 | Val Acc: 0.725327 loss: 0.836249\n",
            "saving model with acc 0.725\n",
            "[006/020] Train Acc: 0.738958 Loss: 0.784510 | Val Acc: 0.727445 loss: 0.830869\n",
            "saving model with acc 0.727\n",
            "[007/020] Train Acc: 0.745389 Loss: 0.762240 | Val Acc: 0.727896 loss: 0.833530\n",
            "saving model with acc 0.728\n",
            "[008/020] Train Acc: 0.751733 Loss: 0.741020 | Val Acc: 0.729217 loss: 0.826212\n",
            "saving model with acc 0.729\n",
            "[009/020] Train Acc: 0.756587 Loss: 0.724849 | Val Acc: 0.731348 loss: 0.823324\n",
            "saving model with acc 0.731\n",
            "[010/020] Train Acc: 0.761130 Loss: 0.710312 | Val Acc: 0.731559 loss: 0.823711\n",
            "saving model with acc 0.732\n",
            "[011/020] Train Acc: 0.764842 Loss: 0.696517 | Val Acc: 0.731409 loss: 0.823937\n",
            "[012/020] Train Acc: 0.768877 Loss: 0.683967 | Val Acc: 0.731392 loss: 0.829191\n",
            "[013/020] Train Acc: 0.771797 Loss: 0.673070 | Val Acc: 0.730364 loss: 0.833186\n",
            "[014/020] Train Acc: 0.774798 Loss: 0.663290 | Val Acc: 0.732457 loss: 0.825247\n",
            "saving model with acc 0.732\n",
            "[015/020] Train Acc: 0.777067 Loss: 0.654283 | Val Acc: 0.731075 loss: 0.831481\n",
            "[016/020] Train Acc: 0.780013 Loss: 0.645825 | Val Acc: 0.730929 loss: 0.832880\n",
            "[017/020] Train Acc: 0.782293 Loss: 0.637681 | Val Acc: 0.731819 loss: 0.834007\n",
            "[018/020] Train Acc: 0.784456 Loss: 0.630696 | Val Acc: 0.731295 loss: 0.834564\n",
            "[019/020] Train Acc: 0.787049 Loss: 0.623821 | Val Acc: 0.732189 loss: 0.837581\n",
            "[020/020] Train Acc: 0.788204 Loss: 0.617855 | Val Acc: 0.731514 loss: 0.834480\n"
          ]
        }
      ]
    },
    {
      "cell_type": "markdown",
      "source": [
        "### **Testing**\n",
        "創建測試資料集並從checkpoint載入訓練好的model"
      ],
      "metadata": {
        "id": "0M87A8JDIgK8"
      }
    },
    {
      "cell_type": "code",
      "source": [
        "# 創建test_set與test_loader\n",
        "test_set = TIMITDataset(test, None)\n",
        "test_loader = DataLoader(test_set, batch_size=BATCH_SIZE, shuffle=False)\n",
        "\n",
        "# 創建模型並從checkpoint載入模型參數\n",
        "model = Classifier().to(device)\n",
        "model.load_state_dict(torch.load(model_path))"
      ],
      "metadata": {
        "colab": {
          "base_uri": "https://localhost:8080/"
        },
        "id": "7DOcIApQI67l",
        "outputId": "4a43c941-bda9-40bd-9358-801c068a66a6"
      },
      "execution_count": 12,
      "outputs": [
        {
          "output_type": "execute_result",
          "data": {
            "text/plain": [
              "<All keys matched successfully>"
            ]
          },
          "metadata": {},
          "execution_count": 12
        }
      ]
    },
    {
      "cell_type": "markdown",
      "source": [
        "開始進行testing"
      ],
      "metadata": {
        "id": "L97BXZfzJ501"
      }
    },
    {
      "cell_type": "code",
      "source": [
        "predict = []                       # 儲存預測結果\n",
        "model.eval()                        # 將model設成evaluation model\n",
        "with torch.no_grad():\n",
        "    for i, data in enumerate(test_loader):\n",
        "        inputs = data\n",
        "        inputs = inputs.to(device)\n",
        "        outputs = model(inputs)\n",
        "        _, test_pred = torch.max(outputs, 1)  # 找出機率最高的class的索引值\n",
        "\n",
        "        # 將預測結果儲存起來\n",
        "        for y in test_pred.cpu().numpy():\n",
        "            predict.append(y)"
      ],
      "metadata": {
        "id": "c2fL05LAKF5L"
      },
      "execution_count": 13,
      "outputs": []
    },
    {
      "cell_type": "markdown",
      "source": [
        "將預測結果存成.csv檔，並將prediction.csv下載下來，之後放上kaggle進行評分"
      ],
      "metadata": {
        "id": "dHlprvkzK-6l"
      }
    },
    {
      "cell_type": "code",
      "source": [
        "with open('prediction.csv', 'w') as f:\n",
        "    f.write('Id,Class\\n')\n",
        "    for i, y in enumerate(predict):\n",
        "        f.write('{},{}\\n'.format(i, y))"
      ],
      "metadata": {
        "id": "kNCSxjN7LZmi"
      },
      "execution_count": 14,
      "outputs": []
    }
  ],
  "metadata": {
    "colab": {
      "provenance": [],
      "gpuType": "T4"
    },
    "kernelspec": {
      "display_name": "Python 3",
      "name": "python3"
    },
    "language_info": {
      "name": "python"
    },
    "accelerator": "GPU"
  },
  "nbformat": 4,
  "nbformat_minor": 0
}