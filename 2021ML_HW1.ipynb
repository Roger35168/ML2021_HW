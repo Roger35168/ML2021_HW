{
  "nbformat": 4,
  "nbformat_minor": 0,
  "metadata": {
    "colab": {
      "provenance": [],
      "authorship_tag": "ABX9TyM1+dIiSng3HLwIfX1dUQXr",
      "include_colab_link": true
    },
    "kernelspec": {
      "name": "python3",
      "display_name": "Python 3"
    },
    "language_info": {
      "name": "python"
    }
  },
  "cells": [
    {
      "cell_type": "markdown",
      "metadata": {
        "id": "view-in-github",
        "colab_type": "text"
      },
      "source": [
        "<a href=\"https://colab.research.google.com/github/Roger35168/ML2021_HW/blob/main/2021ML_HW1.ipynb\" target=\"_parent\"><img src=\"https://colab.research.google.com/assets/colab-badge.svg\" alt=\"Open In Colab\"/></a>"
      ]
    },
    {
      "cell_type": "markdown",
      "source": [
        "### **下載資料**"
      ],
      "metadata": {
        "id": "U0jA6ePCr8CA"
      }
    },
    {
      "cell_type": "code",
      "execution_count": 17,
      "metadata": {
        "colab": {
          "base_uri": "https://localhost:8080/"
        },
        "id": "AIJ9NYXJruhe",
        "outputId": "662b0a07-c352-4cfb-df29-944aefa66e84"
      },
      "outputs": [
        {
          "output_type": "stream",
          "name": "stdout",
          "text": [
            "/usr/local/lib/python3.10/dist-packages/gdown/cli.py:121: FutureWarning: Option `--id` was deprecated in version 4.3.1 and will be removed in 5.0. You don't need to pass it anymore to use a file ID.\n",
            "  warnings.warn(\n",
            "Downloading...\n",
            "From: https://drive.google.com/uc?id=19CCyCgJrUxtvgZF53vnctJiOJ23T5mqF\n",
            "To: /content/covid.train.csv\n",
            "100% 2.00M/2.00M [00:00<00:00, 14.4MB/s]\n",
            "/usr/local/lib/python3.10/dist-packages/gdown/cli.py:121: FutureWarning: Option `--id` was deprecated in version 4.3.1 and will be removed in 5.0. You don't need to pass it anymore to use a file ID.\n",
            "  warnings.warn(\n",
            "Downloading...\n",
            "From: https://drive.google.com/uc?id=1CE240jLm2npU-tdz81-oVKEF3T2yfT1O\n",
            "To: /content/covid.test.csv\n",
            "100% 651k/651k [00:00<00:00, 6.40MB/s]\n"
          ]
        }
      ],
      "source": [
        "tr_path = 'covid.train.csv'  # 訓練資料的路徑\n",
        "tt_path = 'covid.test.csv'  # 測試資料的路徑\n",
        "# google drive的連結\n",
        "!gdown --id '19CCyCgJrUxtvgZF53vnctJiOJ23T5mqF' --output covid.train.csv\n",
        "!gdown --id '1CE240jLm2npU-tdz81-oVKEF3T2yfT1O' --output covid.test.csv"
      ]
    },
    {
      "cell_type": "markdown",
      "source": [
        "### **安裝相關套件**"
      ],
      "metadata": {
        "id": "uDTo-guNxn5C"
      }
    },
    {
      "cell_type": "code",
      "source": [
        "# Pytorch\n",
        "import torch\n",
        "import torch.nn as nn\n",
        "from torch.utils.data import Dataset, DataLoader\n",
        "\n",
        "# Sklearn\n",
        "import sklearn\n",
        "from sklearn.feature_selection import SelectKBest\n",
        "from sklearn.feature_selection import f_regression\n",
        "from sklearn import preprocessing\n",
        "\n",
        "# 資料預處理\n",
        "import numpy as np\n",
        "import pandas as pd\n",
        "import csv\n",
        "import os\n",
        "\n",
        "# 畫圖\n",
        "import matplotlib.pyplot as plt\n",
        "from matplotlib.pyplot import figure\n",
        "\n",
        "# 設定隨機種子(確保輸出模型一致)\n",
        "myseed = 42069\n",
        "# 參考資料:https://zhuanlan.zhihu.com/p/583387718\n",
        "# CPU版本的PyTorch只要所有參數初始化一樣,超參數也一樣則輸出的model會一樣\n",
        "# GPU版本的PyTorch在訓練時可能會引入額外的隨機源,導致輸出的模型不一致\n",
        "# torch.backends.cudnn.deterministic = True可以讓輸出結果一致\n",
        "torch.backends.cudnn.deterministic = True\n",
        "# torch.backends.cudnn.benchmark決定是否要在開始執行程式時先尋找整個網路最適合每個卷積層的卷積方法\n",
        "# 固定的網路結構與輸入形狀(batch size、圖片大小、輸入通道等)，可以透過開啟這個功能實現網路加速(True)\n",
        "# 反之，不斷變動的卷積層會不斷花費時間在最佳化上，因此會花費更多時間\n",
        "torch.backends.cudnn.benchmark = False\n",
        "np.random.seed(myseed)\n",
        "torch.manual_seed(myseed)\n",
        "if torch.cuda.is_available():\n",
        "    torch.cuda.manual_seed_all(myseed)\n"
      ],
      "metadata": {
        "id": "hGIHm0t7x0Z6"
      },
      "execution_count": 18,
      "outputs": []
    },
    {
      "cell_type": "markdown",
      "source": [
        "### **設定會用到的功能函式**"
      ],
      "metadata": {
        "id": "QXpj-jdNkZlY"
      }
    },
    {
      "cell_type": "code",
      "source": [
        "# 判斷是GPU還是CPU\n",
        "def get_device():\n",
        "    return 'cuda' if torch.cuda.is_available() else 'cpu'\n",
        "\n",
        "def plot_learning_curve(loss_record, title=''):\n",
        "    ''' Plot learning curve of your DNN (train & dev loss) '''\n",
        "    total_steps = len(loss_record['train'])\n",
        "    x_1 = range(total_steps)\n",
        "    x_2 = x_1[::len(loss_record['train']) // len(loss_record['dev'])]\n",
        "    figure(figsize=(6, 4))\n",
        "    plt.plot(x_1, loss_record['train'], c='tab:red', label='train')\n",
        "    plt.plot(x_2, loss_record['dev'], c='tab:cyan', label='dev')\n",
        "    plt.ylim(0.0, 5.)\n",
        "    plt.xlabel('Training steps')\n",
        "    plt.ylabel('MSE loss')\n",
        "    plt.title('Learning curve of {}'.format(title))\n",
        "    plt.legend()\n",
        "    plt.show()\n",
        "\n",
        "def plot_pred(dv_set, model, device, lim=35., preds=None, targets=None):\n",
        "    ''' Plot prediction of your DNN '''\n",
        "    if preds is None or targets is None:\n",
        "        model.eval()\n",
        "        preds, targets = [], []\n",
        "        for x, y in dv_set:\n",
        "            x, y = x.to(device), y.to(device)\n",
        "            with torch.no_grad():\n",
        "                pred = model(x)\n",
        "                preds.append(pred.detach().cpu())\n",
        "                targets.append(y.detach().cpu())\n",
        "        preds = torch.cat(preds, dim=0).numpy()\n",
        "        targets = torch.cat(targets, dim=0).numpy()\n",
        "\n",
        "    figure(figsize=(5, 5))\n",
        "    plt.scatter(targets, preds, c='r', alpha=0.5)\n",
        "    plt.plot([-0.2, lim], [-0.2, lim], c='b')\n",
        "    plt.xlim(-0.2, lim)\n",
        "    plt.ylim(-0.2, lim)\n",
        "    plt.xlabel('ground truth value')\n",
        "    plt.ylabel('predicted value')\n",
        "    plt.title('Ground Truth v.s. Prediction')\n",
        "    plt.show()"
      ],
      "metadata": {
        "id": "S6tkjsYgkasJ"
      },
      "execution_count": 19,
      "outputs": []
    },
    {
      "cell_type": "markdown",
      "source": [
        "### **選擇特徵**"
      ],
      "metadata": {
        "id": "3DobZT7vnOAq"
      }
    },
    {
      "cell_type": "code",
      "source": [
        "# 讀取訓練資料\n",
        "data = pd.read_csv(r'covid.train.csv')\n",
        "# 設定特徵\n",
        "x = data[data.columns[1:94]]\n",
        "# 設定目標\n",
        "y = data[data.columns[94]]\n",
        "\n",
        "# 特徵標準化\n",
        "x = (x - x.min()) / (x.max() - x.min())\n",
        "\n",
        "# 用f_regression方法計算特徵的分數(與目標的關聯性)\n",
        "bestfeatures = SelectKBest(score_func=f_regression)\n",
        "\n",
        "# 計算所有特徵的分數\n",
        "fit = bestfeatures.fit(x,y)\n",
        "\n",
        "# 將分數轉換成DataFrame形式\n",
        "dfscores = pd.DataFrame(fit.scores_)\n",
        "\n",
        "# 將訓練資料的欄位名字做成DataFrame形式\n",
        "dfcolumns = pd.DataFrame(x.columns)\n",
        "\n",
        "# 將兩個DataFrame連結在一起\n",
        "featurescores = pd.concat([dfcolumns,dfscores],axis=1)\n",
        "\n",
        "# 替featurescores的欄位命名\n",
        "featurescores.columns = ['Feats','Score']\n",
        "\n",
        "# 印出分數前20高的特徵\n",
        "print(featurescores.nlargest(20,'Score'))\n",
        "\n",
        "# 將分數前14高的index存起來(之後要用到的特徵index)\n",
        "top_rows = featurescores.nlargest(20, 'Score').index.tolist()[:14]\n",
        "print(top_rows)"
      ],
      "metadata": {
        "colab": {
          "base_uri": "https://localhost:8080/"
        },
        "id": "g_DonmBtnNjS",
        "outputId": "8f853113-c542-4c82-a20d-ddee4efbc091"
      },
      "execution_count": 20,
      "outputs": [
        {
          "output_type": "stream",
          "name": "stdout",
          "text": [
            "                 Feats          Score\n",
            "75   tested_positive.1  148069.658278\n",
            "57     tested_positive   69603.872591\n",
            "42        hh_cmnty_cli    9235.492094\n",
            "60      hh_cmnty_cli.1    9209.019558\n",
            "78      hh_cmnty_cli.2    9097.375172\n",
            "43      nohh_cmnty_cli    8395.421300\n",
            "61    nohh_cmnty_cli.1    8343.255927\n",
            "79    nohh_cmnty_cli.2    8208.176435\n",
            "40                 cli    6388.906849\n",
            "58               cli.1    6374.548000\n",
            "76               cli.2    6250.008702\n",
            "41                 ili    5998.922880\n",
            "59               ili.1    5937.588576\n",
            "77               ili.2    5796.947672\n",
            "92  worried_finances.2     833.613191\n",
            "74  worried_finances.1     811.916460\n",
            "56    worried_finances     788.076931\n",
            "87    public_transit.2     686.736539\n",
            "69    public_transit.1     681.562902\n",
            "51      public_transit     678.834789\n",
            "[75, 57, 42, 60, 78, 43, 61, 79, 40, 58, 76, 41, 59, 77]\n"
          ]
        }
      ]
    },
    {
      "cell_type": "markdown",
      "source": [
        "### **資料前處理**\n",
        "\n",
        "*   讀取`.csv`檔\n",
        "*   提取特徵與目標\n",
        "*   將`train.csv`的資料分成train與dev資料\n",
        "*   將資料標準化\n",
        "\n",
        "  \n",
        "  "
      ],
      "metadata": {
        "id": "cqUQzsogy5IM"
      }
    },
    {
      "cell_type": "code",
      "source": [
        "class COVID19Dataset(Dataset):\n",
        "    ''' Dataset for loading and preprocessing the COVID19 dataset '''\n",
        "    def __init__(self,\n",
        "                 path,\n",
        "                 mode='train',\n",
        "                 target_only=False):\n",
        "        self.mode = mode\n",
        "\n",
        "        # Read data into numpy arrays\n",
        "        with open(path, 'r') as fp:\n",
        "            data = list(csv.reader(fp))\n",
        "            # data[1:]將第2行列以後的數據取出來\n",
        "            # [:, 1:]將前面取出的數據，其第2行以後的數據取出來\n",
        "            data = np.array(data[1:])[:, 1:].astype(float)\n",
        "\n",
        "        if not target_only:\n",
        "            feats = list(range(93))\n",
        "        else:\n",
        "            # TODO: Using 40 states & 2 tested_positive features (indices = 57 & 75)\n",
        "            # 選擇關聯性較高的資料加進特徵裡面\n",
        "            # 參考網址:https://blog.csdn.net/haerxiluo/article/details/126280677\n",
        "            feats = [75, 57, 42, 60, 78, 43, 61, 79, 40, 58, 76, 41, 59, 77]\n",
        "\n",
        "        if mode == 'test':\n",
        "            # Testing data\n",
        "            # data: 893 x 93 (40 states + day 1 (18) + day 2 (18) + day 3 (17))\n",
        "            data = data[:, feats]\n",
        "            # 將資料從numpy轉成tensor\n",
        "            self.data = torch.FloatTensor(data)\n",
        "        else:\n",
        "            # Training data (train/dev sets)\n",
        "            # data: 2700 x 94 (40 states + day 1 (18) + day 2 (18) + day 3 (18))\n",
        "            # data[:, -1] 讀取所有列的最後一行數據\n",
        "            target = data[:, -1]\n",
        "            data = data[:, feats]\n",
        "\n",
        "            # Splitting training data into train & dev sets\n",
        "            if mode == 'train':\n",
        "                indices = [i for i in range(len(data)) if i % 10 != 0]\n",
        "            elif mode == 'dev':\n",
        "                indices = [i for i in range(len(data)) if i % 10 == 0]\n",
        "\n",
        "            # Convert data into PyTorch tensors\n",
        "            self.data = torch.FloatTensor(data[indices])\n",
        "            self.target = torch.FloatTensor(target[indices])\n",
        "\n",
        "        # Normalize features (you may remove this part to see what will happen)\n",
        "        # mean(dim=0, keepdim=True)) 是針對第0維取平均，keepdim=True 代表取完平均後自動下降1個維度\n",
        "        # std(dim=0, keepdim=True) 是針對第0維取標準差，keepdim=True 代表取完平均後自動下降1個維度\n",
        "        # 做完資料標準化後，所有資料的均值為0，標準差為1\n",
        "        self.data[:, 40:] = \\\n",
        "            (self.data[:, 40:] - self.data[:, 40:].mean(dim=0, keepdim=True)) \\\n",
        "            / self.data[:, 40:].std(dim=0, keepdim=True)\n",
        "\n",
        "        self.dim = self.data.shape[1]\n",
        "\n",
        "        print('Finished reading the {} set of COVID19 Dataset ({} samples found, each dim = {})'\n",
        "              .format(mode, len(self.data), self.dim))\n",
        "\n",
        "    def __getitem__(self, index):\n",
        "        # Returns one sample at a time\n",
        "        if self.mode in ['train', 'dev']:\n",
        "            # For training\n",
        "            return self.data[index], self.target[index]\n",
        "        else:\n",
        "            # For testing (no target)\n",
        "            return self.data[index]\n",
        "\n",
        "    def __len__(self):\n",
        "        # Returns the size of the dataset\n",
        "        return len(self.data)"
      ],
      "metadata": {
        "id": "6pOnoeuvy42W"
      },
      "execution_count": 21,
      "outputs": []
    },
    {
      "cell_type": "markdown",
      "source": [
        "### **DataLoader**\n",
        "透過DataLoader從Dataset載入資料"
      ],
      "metadata": {
        "id": "XnQUf1SXPvRf"
      }
    },
    {
      "cell_type": "code",
      "source": [
        "def prep_dataloader(path, mode, batch_size, n_jobs=0, target_only=False):\n",
        "    ''' Generates a dataset, then is put into a dataloader. '''\n",
        "    dataset = COVID19Dataset(path, mode=mode, target_only=target_only)  # Construct dataset\n",
        "    # drop_last:當資料數不能被batch_size整除時，是否丟掉不能整除的資料\n",
        "    # pin_memory:是否將資料放到GPU上\n",
        "    dataloader = DataLoader(\n",
        "        dataset, batch_size,\n",
        "        shuffle=(mode == 'train'), drop_last=False,\n",
        "        num_workers=n_jobs, pin_memory=True)                            # Construct dataloader\n",
        "    return dataloader"
      ],
      "metadata": {
        "id": "g-pnB1aYPvEQ"
      },
      "execution_count": 22,
      "outputs": []
    },
    {
      "cell_type": "markdown",
      "source": [
        "### **Deep Neural Network**\n"
      ],
      "metadata": {
        "id": "qecKSxS4Q3W3"
      }
    },
    {
      "cell_type": "code",
      "source": [
        "class NeuralNet(nn.Module):\n",
        "  def __init__(self, input_dim):\n",
        "    # super(NeuralNet, self).__init__()是指調用父類別的初始化，這邊的父類別為nn.Module\n",
        "    super(NeuralNet, self).__init__()\n",
        "\n",
        "    # 定義自己的網路\n",
        "    self.net = nn.Sequential(\n",
        "        nn.Linear(input_dim, 64),\n",
        "        nn.ReLU(),\n",
        "        nn.Linear(64, 16),\n",
        "        nn.ReLU(),\n",
        "        nn.Linear(16, 1)\n",
        "    )\n",
        "\n",
        "    # 定義損失函數(Mean Squared Error)\n",
        "    self.criterion = nn.MSELoss(reduction='mean')\n",
        "\n",
        "  # 計算預測結果並去掉維度數維1的維度\n",
        "  def forward(self, x):\n",
        "    return self.net(x).squeeze(1)\n",
        "\n",
        "  # 計算loss\n",
        "  # 用 L2 regularization 替模型增加限制，避免模型 over-fitting(降低模型準確度但增加泛用姓)\n",
        "  # 參考資料:https://allen108108.github.io/blog/2019/10/22/L1%20,%20L2%20Regularization%20%E5%88%B0%E5%BA%95%E6%AD%A3%E5%89%87%E5%8C%96%E4%BA%86%E4%BB%80%E9%BA%BC%20_/\n",
        "  def cal_loss(self, pred, target):\n",
        "        ''' Calculate loss '''\n",
        "        # TODO: you may implement L1/L2 regularization here\n",
        "        loss_sum = 0\n",
        "        for p in model.parameters():\n",
        "            loss_sum += torch.sum(p ** 2)\n",
        "        # loss_sum 的係數可以自行調整\n",
        "        return self.criterion(pred, target) + 0.0001 * loss_sum"
      ],
      "metadata": {
        "id": "iXF2k3btQ3O5"
      },
      "execution_count": 23,
      "outputs": []
    },
    {
      "cell_type": "markdown",
      "source": [
        "### **Training**"
      ],
      "metadata": {
        "id": "5k4Jl4fAFw0c"
      }
    },
    {
      "cell_type": "code",
      "source": [
        "def train(tr_set, dv_set, model, config, device):\n",
        "    ''' DNN training '''\n",
        "\n",
        "    n_epochs = config['n_epochs']  # Maximum number of epochs\n",
        "\n",
        "    # Setup optimizer\n",
        "    # getattr(object, name[, default]) 是返回object的屬性(name)的值，等於object.name\n",
        "    # 這裡是用於設定最佳化方法(config['optimizer'])，並將超參數(**config['optim_hparas'])代入最佳化方法裡\n",
        "    optimizer = getattr(torch.optim, config['optimizer'])(\n",
        "        model.parameters(), **config['optim_hparas'])\n",
        "\n",
        "    min_mse = 1000.\n",
        "    loss_record = {'train': [], 'dev': []}      # for recording training loss\n",
        "    early_stop_cnt = 0\n",
        "    epoch = 0\n",
        "    while epoch < n_epochs:                       # 參考資料:https://zhuanlan.zhihu.com/p/357075502\n",
        "        model.train()                          # 設定成訓練模式(啟用batch normalization跟dropout)\n",
        "        for x, y in tr_set:                     # 透過dataloader進行迭代\n",
        "            optimizer.zero_grad()                  # 將gradient設為0(避免梯度累積)\n",
        "            x, y = x.to(device), y.to(device)          # 將資料移到設備裡(cpu/cuda)\n",
        "            pred = model(x)                    # 計算輸出(forward pass)\n",
        "            mse_loss = model.cal_loss(pred, y)          # 計算loss\n",
        "            mse_loss.backward()                   # 計算gradient(backpropagation)\n",
        "            optimizer.step()                    # 更新參數\n",
        "            loss_record['train'].append(mse_loss.detach().cpu().item()) # 紀錄training loss\n",
        "\n",
        "        # 在每次epoch後用驗證資料集測試訓練後的模型\n",
        "        dev_mse = dev(dv_set, model, device)\n",
        "        if dev_mse < min_mse:\n",
        "            # 如果loss變小，將現在的loss存成最小loss並儲存模型\n",
        "            min_mse = dev_mse\n",
        "            print('Saving model (epoch = {:4d}, loss = {:.4f})'\n",
        "                .format(epoch + 1, min_mse))\n",
        "            torch.save(model.state_dict(), config['save_path'])  # Save model to specified path\n",
        "            early_stop_cnt = 0\n",
        "        else:\n",
        "            early_stop_cnt += 1                  # 如果loss變大則把early_stop_cnt+1\n",
        "\n",
        "        epoch += 1\n",
        "        loss_record['dev'].append(dev_mse)\n",
        "        # 當early_stop_cnt大於設定的值則停止訓練模型\n",
        "        if early_stop_cnt > config['early_stop']:\n",
        "            # Stop training if your model stops improving for \"config['early_stop']\" epochs.\n",
        "            break\n",
        "\n",
        "    print('Finished training after {} epochs'.format(epoch))\n",
        "    return min_mse, loss_record"
      ],
      "metadata": {
        "id": "p8J0Rv3WFwrs"
      },
      "execution_count": 24,
      "outputs": []
    },
    {
      "cell_type": "markdown",
      "source": [
        "### **Validation**"
      ],
      "metadata": {
        "id": "rnlhBe-wGAi5"
      }
    },
    {
      "cell_type": "code",
      "source": [
        "def dev(dv_set, model, device):\n",
        "    model.eval()                              # 將模型設成evalutation模式\n",
        "    total_loss = 0\n",
        "    for x, y in dv_set:                         # 透過dataloader進行迭代\n",
        "        x, y = x.to(device), y.to(device)              # 將資料移到設備裡(cpu/cuda)\n",
        "        with torch.no_grad():                     # 關掉梯度計算\n",
        "            pred = model(x)                    # 計算輸出(forward pass)\n",
        "            mse_loss = model.cal_loss(pred, y)          # 計算loss\n",
        "        total_loss += mse_loss.detach().cpu().item() * len(x)    # 累加loss(mse_loss.detach().cpu().item()是只讀取loss信息)\n",
        "    total_loss = total_loss / len(dv_set.dataset)            # 計算平均loss\n",
        "\n",
        "    return total_loss"
      ],
      "metadata": {
        "id": "ahL1xbjIGAYJ"
      },
      "execution_count": 25,
      "outputs": []
    },
    {
      "cell_type": "markdown",
      "source": [
        "### **Testing**"
      ],
      "metadata": {
        "id": "PLaVEuRtGFTZ"
      }
    },
    {
      "cell_type": "code",
      "source": [
        "def test(tt_set, model, device):\n",
        "    model.eval()                              # 將模型設成evalutation模式\n",
        "    preds = []\n",
        "    for x in tt_set:                           # 透過dataloader進行迭代\n",
        "        x = x.to(device)                       # 將資料移到設備裡(cpu/cuda)\n",
        "        with torch.no_grad():                     # 關掉梯度計算\n",
        "            pred = model(x)                    # 計算輸出(forward pass)\n",
        "            preds.append(pred.detach().cpu())            # 儲存預測結果\n",
        "    preds = torch.cat(preds, dim=0).numpy()               # 將預測結果整合成一個numpy array\n",
        "    return preds"
      ],
      "metadata": {
        "id": "p_R_d8MNGFJp"
      },
      "execution_count": 26,
      "outputs": []
    },
    {
      "cell_type": "markdown",
      "source": [
        "### Hyper-**parameters**\n",
        "設置訓練時的超參數"
      ],
      "metadata": {
        "id": "-DKVhNN_GWGg"
      }
    },
    {
      "cell_type": "code",
      "source": [
        "device = get_device()                  # 取得現在使用的設備(CPU/Cuda)\n",
        "os.makedirs('models', exist_ok=True)           # 創造'models'目錄(exist_ok=True代表已存在目錄的情況下不會觸發FileExistsError)\n",
        "target_only = True                   # TODO: Using 40 states & 2 tested_positive features\n",
        "\n",
        "# TODO: How to tune these hyper-parameters to improve your model's performance?\n",
        "config = {\n",
        "    'n_epochs': 10000,                # maximum number of epochs\n",
        "    'batch_size': 64,                # mini-batch size for dataloader\n",
        "    'optimizer': 'SGD',               # optimization algorithm (optimizer in torch.optim)\n",
        "    'optim_hparas': {                # hyper-parameters for the optimizer (depends on which optimizer you are using)\n",
        "        'lr': 0.0001,              # learning rate of SGD\n",
        "        'momentum': 0.9             # momentum for SGD\n",
        "    },\n",
        "    'early_stop': 500,               # early stopping epochs (the number epochs since your model's last improvement)\n",
        "    'save_path': 'models/model.pth'         # your model will be saved here\n",
        "}"
      ],
      "metadata": {
        "id": "q3kkOu9fGV-y"
      },
      "execution_count": 27,
      "outputs": []
    },
    {
      "cell_type": "markdown",
      "source": [
        "### **載入資料與模型**"
      ],
      "metadata": {
        "id": "8G-98OUzGpko"
      }
    },
    {
      "cell_type": "code",
      "source": [
        "tr_set = prep_dataloader(tr_path, 'train', config['batch_size'], target_only=target_only)\n",
        "dv_set = prep_dataloader(tr_path, 'dev', config['batch_size'], target_only=target_only)\n",
        "tt_set = prep_dataloader(tt_path, 'test', config['batch_size'], target_only=target_only)\n",
        "\n",
        "model = NeuralNet(tr_set.dataset.dim).to(device)  # Construct model and move to device"
      ],
      "metadata": {
        "id": "mpjwZeikGpch",
        "colab": {
          "base_uri": "https://localhost:8080/"
        },
        "outputId": "49429170-dbd2-445a-89be-72ecc10d4ebc"
      },
      "execution_count": 28,
      "outputs": [
        {
          "output_type": "stream",
          "name": "stdout",
          "text": [
            "Finished reading the train set of COVID19 Dataset (2430 samples found, each dim = 14)\n",
            "Finished reading the dev set of COVID19 Dataset (270 samples found, each dim = 14)\n",
            "Finished reading the test set of COVID19 Dataset (893 samples found, each dim = 14)\n"
          ]
        }
      ]
    },
    {
      "cell_type": "markdown",
      "source": [
        "### **開始訓練**"
      ],
      "metadata": {
        "id": "IEPhQ_cLG5JY"
      }
    },
    {
      "cell_type": "code",
      "source": [
        "model_loss, model_loss_record = train(tr_set, dv_set, model, config, device)"
      ],
      "metadata": {
        "id": "Hc1_LksqG5Bx",
        "colab": {
          "base_uri": "https://localhost:8080/"
        },
        "outputId": "4b7f299d-7611-4323-fc20-7a83a20b1519"
      },
      "execution_count": 29,
      "outputs": [
        {
          "output_type": "stream",
          "name": "stdout",
          "text": [
            "Saving model (epoch =    1, loss = 7.3110)\n",
            "Saving model (epoch =    2, loss = 1.3881)\n",
            "Saving model (epoch =    3, loss = 1.1930)\n",
            "Saving model (epoch =    5, loss = 1.1652)\n",
            "Saving model (epoch =    7, loss = 1.0988)\n",
            "Saving model (epoch =   11, loss = 1.0550)\n",
            "Saving model (epoch =   12, loss = 1.0271)\n",
            "Saving model (epoch =   14, loss = 1.0052)\n",
            "Saving model (epoch =   17, loss = 0.9682)\n",
            "Saving model (epoch =   21, loss = 0.9517)\n",
            "Saving model (epoch =   24, loss = 0.9207)\n",
            "Saving model (epoch =   26, loss = 0.9114)\n",
            "Saving model (epoch =   32, loss = 0.8949)\n",
            "Saving model (epoch =   43, loss = 0.8756)\n",
            "Saving model (epoch =   48, loss = 0.8607)\n",
            "Saving model (epoch =   55, loss = 0.8591)\n",
            "Saving model (epoch =   57, loss = 0.8534)\n",
            "Saving model (epoch =   63, loss = 0.8501)\n",
            "Saving model (epoch =   77, loss = 0.8464)\n",
            "Saving model (epoch =   92, loss = 0.8448)\n",
            "Saving model (epoch =   98, loss = 0.8426)\n",
            "Saving model (epoch =  127, loss = 0.8411)\n",
            "Saving model (epoch =  143, loss = 0.8409)\n",
            "Saving model (epoch =  169, loss = 0.8402)\n",
            "Saving model (epoch =  176, loss = 0.8389)\n",
            "Saving model (epoch =  217, loss = 0.8370)\n",
            "Saving model (epoch =  231, loss = 0.8370)\n",
            "Saving model (epoch =  235, loss = 0.8354)\n",
            "Saving model (epoch =  262, loss = 0.8353)\n",
            "Saving model (epoch =  277, loss = 0.8324)\n",
            "Saving model (epoch =  343, loss = 0.8318)\n",
            "Saving model (epoch =  381, loss = 0.8302)\n",
            "Saving model (epoch =  383, loss = 0.8297)\n",
            "Saving model (epoch =  410, loss = 0.8283)\n",
            "Saving model (epoch =  487, loss = 0.8272)\n",
            "Saving model (epoch =  500, loss = 0.8269)\n",
            "Saving model (epoch =  561, loss = 0.8268)\n",
            "Saving model (epoch =  567, loss = 0.8241)\n",
            "Saving model (epoch =  614, loss = 0.8222)\n",
            "Saving model (epoch =  723, loss = 0.8218)\n",
            "Saving model (epoch =  753, loss = 0.8205)\n",
            "Saving model (epoch =  843, loss = 0.8197)\n",
            "Saving model (epoch = 1089, loss = 0.8191)\n",
            "Saving model (epoch = 1094, loss = 0.8191)\n",
            "Saving model (epoch = 1152, loss = 0.8190)\n",
            "Saving model (epoch = 1158, loss = 0.8181)\n",
            "Saving model (epoch = 1245, loss = 0.8180)\n",
            "Saving model (epoch = 1250, loss = 0.8173)\n",
            "Saving model (epoch = 1261, loss = 0.8170)\n",
            "Saving model (epoch = 1463, loss = 0.8150)\n",
            "Saving model (epoch = 1652, loss = 0.8149)\n",
            "Saving model (epoch = 1755, loss = 0.8137)\n",
            "Saving model (epoch = 1835, loss = 0.8117)\n",
            "Saving model (epoch = 2046, loss = 0.8112)\n",
            "Saving model (epoch = 2120, loss = 0.8100)\n",
            "Saving model (epoch = 2364, loss = 0.8085)\n",
            "Saving model (epoch = 2560, loss = 0.8076)\n",
            "Saving model (epoch = 2740, loss = 0.8063)\n",
            "Saving model (epoch = 2775, loss = 0.8055)\n",
            "Saving model (epoch = 3188, loss = 0.8052)\n",
            "Saving model (epoch = 3407, loss = 0.8042)\n",
            "Saving model (epoch = 3822, loss = 0.8034)\n",
            "Saving model (epoch = 3933, loss = 0.8034)\n",
            "Saving model (epoch = 3949, loss = 0.8023)\n",
            "Saving model (epoch = 4241, loss = 0.8002)\n",
            "Saving model (epoch = 4276, loss = 0.8000)\n",
            "Saving model (epoch = 4464, loss = 0.7998)\n",
            "Saving model (epoch = 4611, loss = 0.7980)\n",
            "Saving model (epoch = 4798, loss = 0.7980)\n",
            "Saving model (epoch = 4899, loss = 0.7944)\n",
            "Saving model (epoch = 5315, loss = 0.7931)\n",
            "Saving model (epoch = 5456, loss = 0.7924)\n",
            "Saving model (epoch = 5517, loss = 0.7912)\n",
            "Saving model (epoch = 5540, loss = 0.7888)\n",
            "Finished training after 6041 epochs\n"
          ]
        }
      ]
    },
    {
      "cell_type": "markdown",
      "source": [
        "### **畫出結果**"
      ],
      "metadata": {
        "id": "iT_BxX8WHGRo"
      }
    },
    {
      "cell_type": "code",
      "source": [
        "plot_learning_curve(model_loss_record, title='deep model')"
      ],
      "metadata": {
        "id": "jHbQV8UFHG5h",
        "colab": {
          "base_uri": "https://localhost:8080/",
          "height": 410
        },
        "outputId": "a160ca18-cb6e-4b03-a2ca-9638e1077775"
      },
      "execution_count": 30,
      "outputs": [
        {
          "output_type": "display_data",
          "data": {
            "text/plain": [
              "<Figure size 600x400 with 1 Axes>"
            ],
            "image/png": "[encoded data removed]"
          },
          "metadata": {}
        }
      ]
    },
    {
      "cell_type": "code",
      "source": [
        "del model\n",
        "model = NeuralNet(tr_set.dataset.dim).to(device)\n",
        "ckpt = torch.load(config['save_path'], map_location='cpu')  # Load your best model\n",
        "model.load_state_dict(ckpt)\n",
        "plot_pred(dv_set, model, device)  # Show prediction on the validation set"
      ],
      "metadata": {
        "id": "rZskpYfhHOYg",
        "colab": {
          "base_uri": "https://localhost:8080/",
          "height": 487
        },
        "outputId": "ae52ba97-b42a-423e-b4f6-88677a190812"
      },
      "execution_count": 31,
      "outputs": [
        {
          "output_type": "display_data",
          "data": {
            "text/plain": [
              "<Figure size 500x500 with 1 Axes>"
            ],
            "image/png": "[encoded data removed]"
          },
          "metadata": {}
        }
      ]
    },
    {
      "cell_type": "markdown",
      "source": [
        "### **測試**\n",
        "模型在測試資料集的預測結果會存成`.csv`檔"
      ],
      "metadata": {
        "id": "k6DBRrx8HrfO"
      }
    },
    {
      "cell_type": "code",
      "source": [
        "def save_pred(preds, file):\n",
        "    ''' Save predictions to specified file '''\n",
        "    print('Saving results to {}'.format(file))\n",
        "    with open(file, 'w') as fp:\n",
        "        writer = csv.writer(fp)\n",
        "        writer.writerow(['id', 'tested_positive'])\n",
        "        for i, p in enumerate(preds):\n",
        "            writer.writerow([i, p])\n",
        "\n",
        "preds = test(tt_set, model, device)  # predict COVID-19 cases with your model\n",
        "save_pred(preds, 'pred.csv')         # save prediction file to pred.csv"
      ],
      "metadata": {
        "id": "VDe0dzzlHrXA",
        "colab": {
          "base_uri": "https://localhost:8080/"
        },
        "outputId": "4dfc34e2-7150-42d9-abf1-9523760d0110"
      },
      "execution_count": 32,
      "outputs": [
        {
          "output_type": "stream",
          "name": "stdout",
          "text": [
            "Saving results to pred.csv\n"
          ]
        }
      ]
    }
  ]
}